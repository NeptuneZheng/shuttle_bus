{
 "cells": [
  {
   "cell_type": "code",
   "execution_count": 1,
   "metadata": {
    "collapsed": true
   },
   "outputs": [],
   "source": [
    "%matplotlib inline"
   ]
  },
  {
   "cell_type": "code",
   "execution_count": 104,
   "metadata": {
    "collapsed": true
   },
   "outputs": [],
   "source": [
    "import pandas as pd\n",
    "import numpy as np\n",
    "import matplotlib.pyplot as plt\n",
    "import math as math\n"
   ]
  },
  {
   "cell_type": "code",
   "execution_count": 14,
   "metadata": {
    "collapsed": true
   },
   "outputs": [],
   "source": [
    "#get the stop segment\n",
    "csv_stop = pd.read_csv(\"./../data/iot.stops.csv\",sep = '\\t',header = 0)\n",
    "csv_route = pd.read_csv(\"./../data/iot.routes.csv\",sep = '\\t',header = 0)\n",
    "\n",
    "#for calculate the distances between 2 stops \n",
    "csv_record = pd.read_csv(\"./../data/iot.iot1.csv\",sep = '\\t',header = 0)"
   ]
  },
  {
   "cell_type": "code",
   "execution_count": 59,
   "metadata": {},
   "outputs": [],
   "source": [
    "csv_route_num1 = csv_route[(csv_route.routeNumber ==1) & (csv_route.isGo2Work == True) ]\n",
    "csv_route_num1 = csv_route_num1.sort_values([\"seqNumber\"],ascending = True)\n",
    "csv_route_num1 = csv_route_num1.iloc[:,1:7]"
   ]
  },
  {
   "cell_type": "code",
   "execution_count": 70,
   "metadata": {},
   "outputs": [],
   "source": [
    "route_stops = csv_route_num1.merge(csv_stop,left_on='stopId',right_on = '_id')"
   ]
  },
  {
   "cell_type": "code",
   "execution_count": 99,
   "metadata": {},
   "outputs": [
    {
     "data": {
      "text/plain": [
       "[<matplotlib.lines.Line2D at 0x1e712b8ac88>,\n",
       " <matplotlib.lines.Line2D at 0x1e712b8ae10>]"
      ]
     },
     "execution_count": 99,
     "metadata": {},
     "output_type": "execute_result"
    },
    {
     "data": {
      "image/png": "[encoded data removed]",
      "text/plain": [
       "<matplotlib.figure.Figure at 0x1e71159fa90>"
      ]
     },
     "metadata": {},
     "output_type": "display_data"
    }
   ],
   "source": [
    "plt.plot(route_stops.latitude,route_stops.longitude, \"g\",location['latitude'],location['longtitude'],'r',marker = 'o')"
   ]
  },
  {
   "cell_type": "code",
   "execution_count": 74,
   "metadata": {},
   "outputs": [
    {
     "data": {
      "text/plain": [
       "[<matplotlib.lines.Line2D at 0x1e710930390>]"
      ]
     },
     "execution_count": 74,
     "metadata": {},
     "output_type": "execute_result"
    },
    {
     "data": {
      "image/png": "[encoded data removed]",
      "text/plain": [
       "<matplotlib.figure.Figure at 0x1e711074240>"
      ]
     },
     "metadata": {},
     "output_type": "display_data"
    }
   ],
   "source": [
    "plt.plot(location['latitude'],location['longtitude'],'ro')"
   ]
  },
  {
   "cell_type": "code",
   "execution_count": 75,
   "metadata": {},
   "outputs": [],
   "source": [
    "plt.plot?"
   ]
  },
  {
   "cell_type": "code",
   "execution_count": 60,
   "metadata": {},
   "outputs": [
    {
     "data": {
      "text/html": [
       "<div>\n",
       "<style>\n",
       "    .dataframe thead tr:only-child th {\n",
       "        text-align: right;\n",
       "    }\n",
       "\n",
       "    .dataframe thead th {\n",
       "        text-align: left;\n",
       "    }\n",
       "\n",
       "    .dataframe tbody tr th {\n",
       "        vertical-align: top;\n",
       "    }\n",
       "</style>\n",
       "<table border=\"1\" class=\"dataframe\">\n",
       "  <thead>\n",
       "    <tr style=\"text-align: right;\">\n",
       "      <th></th>\n",
       "      <th>busId</th>\n",
       "      <th>isGo2Work</th>\n",
       "      <th>plannedArrivalTime</th>\n",
       "      <th>routeNumber</th>\n",
       "      <th>seqNumber</th>\n",
       "      <th>stopId</th>\n",
       "    </tr>\n",
       "  </thead>\n",
       "  <tbody>\n",
       "    <tr>\n",
       "      <th>2</th>\n",
       "      <td>5ae8393c3023169da447c2ae</td>\n",
       "      <td>True</td>\n",
       "      <td>7:23</td>\n",
       "      <td>1</td>\n",
       "      <td>1</td>\n",
       "      <td>5ae83320748fb2a67c5f6e54</td>\n",
       "    </tr>\n",
       "    <tr>\n",
       "      <th>16</th>\n",
       "      <td>5ae8393c3023169da447c2ae</td>\n",
       "      <td>True</td>\n",
       "      <td>7:26</td>\n",
       "      <td>1</td>\n",
       "      <td>2</td>\n",
       "      <td>5ae8334c748fb2a67c5f6e55</td>\n",
       "    </tr>\n",
       "    <tr>\n",
       "      <th>6</th>\n",
       "      <td>5ae8393c3023169da447c2ae</td>\n",
       "      <td>True</td>\n",
       "      <td>7:34</td>\n",
       "      <td>1</td>\n",
       "      <td>3</td>\n",
       "      <td>5ae8336c748fb2a67c5f6e56</td>\n",
       "    </tr>\n",
       "    <tr>\n",
       "      <th>14</th>\n",
       "      <td>5ae8393c3023169da447c2ae</td>\n",
       "      <td>True</td>\n",
       "      <td>7:37</td>\n",
       "      <td>1</td>\n",
       "      <td>4</td>\n",
       "      <td>5ae834df567e17937cf407e1</td>\n",
       "    </tr>\n",
       "    <tr>\n",
       "      <th>0</th>\n",
       "      <td>5ae8393c3023169da447c2ae</td>\n",
       "      <td>True</td>\n",
       "      <td>7:38</td>\n",
       "      <td>1</td>\n",
       "      <td>5</td>\n",
       "      <td>5ae83521567e17937cf407e2</td>\n",
       "    </tr>\n",
       "  </tbody>\n",
       "</table>\n",
       "</div>"
      ],
      "text/plain": [
       "                       busId  isGo2Work plannedArrivalTime  routeNumber  \\\n",
       "2   5ae8393c3023169da447c2ae       True               7:23            1   \n",
       "16  5ae8393c3023169da447c2ae       True               7:26            1   \n",
       "6   5ae8393c3023169da447c2ae       True               7:34            1   \n",
       "14  5ae8393c3023169da447c2ae       True               7:37            1   \n",
       "0   5ae8393c3023169da447c2ae       True               7:38            1   \n",
       "\n",
       "    seqNumber                    stopId  \n",
       "2           1  5ae83320748fb2a67c5f6e54  \n",
       "16          2  5ae8334c748fb2a67c5f6e55  \n",
       "6           3  5ae8336c748fb2a67c5f6e56  \n",
       "14          4  5ae834df567e17937cf407e1  \n",
       "0           5  5ae83521567e17937cf407e2  "
      ]
     },
     "execution_count": 60,
     "metadata": {},
     "output_type": "execute_result"
    }
   ],
   "source": [
    "csv_route_num1.head()"
   ]
  },
  {
   "cell_type": "code",
   "execution_count": 41,
   "metadata": {},
   "outputs": [
    {
     "data": {
      "text/html": [
       "<div>\n",
       "<style>\n",
       "    .dataframe thead tr:only-child th {\n",
       "        text-align: right;\n",
       "    }\n",
       "\n",
       "    .dataframe thead th {\n",
       "        text-align: left;\n",
       "    }\n",
       "\n",
       "    .dataframe tbody tr th {\n",
       "        vertical-align: top;\n",
       "    }\n",
       "</style>\n",
       "<table border=\"1\" class=\"dataframe\">\n",
       "  <thead>\n",
       "    <tr style=\"text-align: right;\">\n",
       "      <th></th>\n",
       "      <th>_id</th>\n",
       "      <th>isGoToWork</th>\n",
       "      <th>latitude</th>\n",
       "      <th>longitude</th>\n",
       "      <th>stopName</th>\n",
       "      <th>updated</th>\n",
       "    </tr>\n",
       "  </thead>\n",
       "  <tbody>\n",
       "    <tr>\n",
       "      <th>0</th>\n",
       "      <td>5ae83320748fb2a67c5f6e54</td>\n",
       "      <td>True</td>\n",
       "      <td>22.249541</td>\n",
       "      <td>113.520559</td>\n",
       "      <td>明珠中</td>\n",
       "      <td>2018-05-01T09:28:00.844Z</td>\n",
       "    </tr>\n",
       "  </tbody>\n",
       "</table>\n",
       "</div>"
      ],
      "text/plain": [
       "                        _id  isGoToWork   latitude   longitude stopName  \\\n",
       "0  5ae83320748fb2a67c5f6e54        True  22.249541  113.520559      明珠中   \n",
       "\n",
       "                    updated  \n",
       "0  2018-05-01T09:28:00.844Z  "
      ]
     },
     "execution_count": 41,
     "metadata": {},
     "output_type": "execute_result"
    }
   ],
   "source": [
    "csv_stop[csv_stop._id == \"5ae83320748fb2a67c5f6e54\"]"
   ]
  },
  {
   "cell_type": "code",
   "execution_count": 42,
   "metadata": {},
   "outputs": [
    {
     "data": {
      "text/html": [
       "<div>\n",
       "<style>\n",
       "    .dataframe thead tr:only-child th {\n",
       "        text-align: right;\n",
       "    }\n",
       "\n",
       "    .dataframe thead th {\n",
       "        text-align: left;\n",
       "    }\n",
       "\n",
       "    .dataframe tbody tr th {\n",
       "        vertical-align: top;\n",
       "    }\n",
       "</style>\n",
       "<table border=\"1\" class=\"dataframe\">\n",
       "  <thead>\n",
       "    <tr style=\"text-align: right;\">\n",
       "      <th></th>\n",
       "      <th>routeNumber</th>\n",
       "      <th>seqNumber</th>\n",
       "      <th>latitude</th>\n",
       "      <th>longitude</th>\n",
       "    </tr>\n",
       "  </thead>\n",
       "  <tbody>\n",
       "    <tr>\n",
       "      <th>count</th>\n",
       "      <td>7.0</td>\n",
       "      <td>7.000000</td>\n",
       "      <td>7.000000</td>\n",
       "      <td>7.000000</td>\n",
       "    </tr>\n",
       "    <tr>\n",
       "      <th>mean</th>\n",
       "      <td>1.0</td>\n",
       "      <td>4.000000</td>\n",
       "      <td>22.271258</td>\n",
       "      <td>113.548201</td>\n",
       "    </tr>\n",
       "    <tr>\n",
       "      <th>std</th>\n",
       "      <td>0.0</td>\n",
       "      <td>2.160247</td>\n",
       "      <td>0.046734</td>\n",
       "      <td>0.021044</td>\n",
       "    </tr>\n",
       "    <tr>\n",
       "      <th>min</th>\n",
       "      <td>1.0</td>\n",
       "      <td>1.000000</td>\n",
       "      <td>22.236448</td>\n",
       "      <td>113.520559</td>\n",
       "    </tr>\n",
       "    <tr>\n",
       "      <th>25%</th>\n",
       "      <td>1.0</td>\n",
       "      <td>2.500000</td>\n",
       "      <td>22.247432</td>\n",
       "      <td>113.533834</td>\n",
       "    </tr>\n",
       "    <tr>\n",
       "      <th>50%</th>\n",
       "      <td>1.0</td>\n",
       "      <td>4.000000</td>\n",
       "      <td>22.250497</td>\n",
       "      <td>113.543161</td>\n",
       "    </tr>\n",
       "    <tr>\n",
       "      <th>75%</th>\n",
       "      <td>1.0</td>\n",
       "      <td>5.500000</td>\n",
       "      <td>22.272182</td>\n",
       "      <td>113.565048</td>\n",
       "    </tr>\n",
       "    <tr>\n",
       "      <th>max</th>\n",
       "      <td>1.0</td>\n",
       "      <td>7.000000</td>\n",
       "      <td>22.372631</td>\n",
       "      <td>113.575924</td>\n",
       "    </tr>\n",
       "  </tbody>\n",
       "</table>\n",
       "</div>"
      ],
      "text/plain": [
       "       routeNumber  seqNumber   latitude   longitude\n",
       "count          7.0   7.000000   7.000000    7.000000\n",
       "mean           1.0   4.000000  22.271258  113.548201\n",
       "std            0.0   2.160247   0.046734    0.021044\n",
       "min            1.0   1.000000  22.236448  113.520559\n",
       "25%            1.0   2.500000  22.247432  113.533834\n",
       "50%            1.0   4.000000  22.250497  113.543161\n",
       "75%            1.0   5.500000  22.272182  113.565048\n",
       "max            1.0   7.000000  22.372631  113.575924"
      ]
     },
     "execution_count": 42,
     "metadata": {},
     "output_type": "execute_result"
    }
   ],
   "source": [
    "route_stops."
   ]
  },
  {
   "cell_type": "code",
   "execution_count": 71,
   "metadata": {
    "scrolled": false
   },
   "outputs": [
    {
     "data": {
      "text/html": [
       "<div>\n",
       "<style>\n",
       "    .dataframe thead tr:only-child th {\n",
       "        text-align: right;\n",
       "    }\n",
       "\n",
       "    .dataframe thead th {\n",
       "        text-align: left;\n",
       "    }\n",
       "\n",
       "    .dataframe tbody tr th {\n",
       "        vertical-align: top;\n",
       "    }\n",
       "</style>\n",
       "<table border=\"1\" class=\"dataframe\">\n",
       "  <thead>\n",
       "    <tr style=\"text-align: right;\">\n",
       "      <th></th>\n",
       "      <th>busId</th>\n",
       "      <th>isGo2Work</th>\n",
       "      <th>plannedArrivalTime</th>\n",
       "      <th>routeNumber</th>\n",
       "      <th>seqNumber</th>\n",
       "      <th>stopId</th>\n",
       "      <th>_id</th>\n",
       "      <th>isGoToWork</th>\n",
       "      <th>latitude</th>\n",
       "      <th>longitude</th>\n",
       "      <th>stopName</th>\n",
       "      <th>updated</th>\n",
       "    </tr>\n",
       "  </thead>\n",
       "  <tbody>\n",
       "    <tr>\n",
       "      <th>0</th>\n",
       "      <td>5ae8393c3023169da447c2ae</td>\n",
       "      <td>True</td>\n",
       "      <td>7:23</td>\n",
       "      <td>1</td>\n",
       "      <td>1</td>\n",
       "      <td>5ae83320748fb2a67c5f6e54</td>\n",
       "      <td>5ae83320748fb2a67c5f6e54</td>\n",
       "      <td>True</td>\n",
       "      <td>22.249541</td>\n",
       "      <td>113.520559</td>\n",
       "      <td>明珠中</td>\n",
       "      <td>2018-05-01T09:28:00.844Z</td>\n",
       "    </tr>\n",
       "    <tr>\n",
       "      <th>1</th>\n",
       "      <td>5ae8393c3023169da447c2ae</td>\n",
       "      <td>True</td>\n",
       "      <td>7:26</td>\n",
       "      <td>1</td>\n",
       "      <td>2</td>\n",
       "      <td>5ae8334c748fb2a67c5f6e55</td>\n",
       "      <td>5ae8334c748fb2a67c5f6e55</td>\n",
       "      <td>True</td>\n",
       "      <td>22.256653</td>\n",
       "      <td>113.519771</td>\n",
       "      <td>翠微</td>\n",
       "      <td>2018-05-01T09:28:44.366Z</td>\n",
       "    </tr>\n",
       "    <tr>\n",
       "      <th>2</th>\n",
       "      <td>5ae8393c3023169da447c2ae</td>\n",
       "      <td>True</td>\n",
       "      <td>7:34</td>\n",
       "      <td>1</td>\n",
       "      <td>3</td>\n",
       "      <td>5ae8336c748fb2a67c5f6e56</td>\n",
       "      <td>5ae8336c748fb2a67c5f6e56</td>\n",
       "      <td>True</td>\n",
       "      <td>22.267762</td>\n",
       "      <td>113.536134</td>\n",
       "      <td>仁恒星园</td>\n",
       "      <td>2018-05-01T09:29:16.147Z</td>\n",
       "    </tr>\n",
       "    <tr>\n",
       "      <th>3</th>\n",
       "      <td>5ae8393c3023169da447c2ae</td>\n",
       "      <td>True</td>\n",
       "      <td>7:37</td>\n",
       "      <td>1</td>\n",
       "      <td>4</td>\n",
       "      <td>5ae834df567e17937cf407e1</td>\n",
       "      <td>5ae834df567e17937cf407e1</td>\n",
       "      <td>True</td>\n",
       "      <td>22.268722</td>\n",
       "      <td>113.542062</td>\n",
       "      <td>香洲区府</td>\n",
       "      <td>2018-05-01T09:35:27.388Z</td>\n",
       "    </tr>\n",
       "    <tr>\n",
       "      <th>4</th>\n",
       "      <td>5ae8393c3023169da447c2ae</td>\n",
       "      <td>True</td>\n",
       "      <td>7:38</td>\n",
       "      <td>1</td>\n",
       "      <td>5</td>\n",
       "      <td>5ae83521567e17937cf407e2</td>\n",
       "      <td>5ae83521567e17937cf407e2</td>\n",
       "      <td>True</td>\n",
       "      <td>22.269261</td>\n",
       "      <td>113.545517</td>\n",
       "      <td>南村</td>\n",
       "      <td>2018-05-01T09:36:33.812Z</td>\n",
       "    </tr>\n",
       "    <tr>\n",
       "      <th>5</th>\n",
       "      <td>5ae8393c3023169da447c2ae</td>\n",
       "      <td>True</td>\n",
       "      <td>7:40</td>\n",
       "      <td>1</td>\n",
       "      <td>6</td>\n",
       "      <td>5ae8353d567e17937cf407e3</td>\n",
       "      <td>5ae8353d567e17937cf407e3</td>\n",
       "      <td>True</td>\n",
       "      <td>22.276603</td>\n",
       "      <td>113.557696</td>\n",
       "      <td>兴业中</td>\n",
       "      <td>2018-05-01T09:37:01.373Z</td>\n",
       "    </tr>\n",
       "    <tr>\n",
       "      <th>6</th>\n",
       "      <td>5ae8393c3023169da447c2ae</td>\n",
       "      <td>True</td>\n",
       "      <td>8:30</td>\n",
       "      <td>1</td>\n",
       "      <td>7</td>\n",
       "      <td>5af85642ac5680781c7bb90c</td>\n",
       "      <td>5af85642ac5680781c7bb90c</td>\n",
       "      <td>True</td>\n",
       "      <td>22.372631</td>\n",
       "      <td>113.575924</td>\n",
       "      <td>南方软件园</td>\n",
       "      <td>2018-05-13T15:14:10.382Z</td>\n",
       "    </tr>\n",
       "  </tbody>\n",
       "</table>\n",
       "</div>"
      ],
      "text/plain": [
       "                      busId  isGo2Work plannedArrivalTime  routeNumber  \\\n",
       "0  5ae8393c3023169da447c2ae       True               7:23            1   \n",
       "1  5ae8393c3023169da447c2ae       True               7:26            1   \n",
       "2  5ae8393c3023169da447c2ae       True               7:34            1   \n",
       "3  5ae8393c3023169da447c2ae       True               7:37            1   \n",
       "4  5ae8393c3023169da447c2ae       True               7:38            1   \n",
       "5  5ae8393c3023169da447c2ae       True               7:40            1   \n",
       "6  5ae8393c3023169da447c2ae       True               8:30            1   \n",
       "\n",
       "   seqNumber                    stopId                       _id  isGoToWork  \\\n",
       "0          1  5ae83320748fb2a67c5f6e54  5ae83320748fb2a67c5f6e54        True   \n",
       "1          2  5ae8334c748fb2a67c5f6e55  5ae8334c748fb2a67c5f6e55        True   \n",
       "2          3  5ae8336c748fb2a67c5f6e56  5ae8336c748fb2a67c5f6e56        True   \n",
       "3          4  5ae834df567e17937cf407e1  5ae834df567e17937cf407e1        True   \n",
       "4          5  5ae83521567e17937cf407e2  5ae83521567e17937cf407e2        True   \n",
       "5          6  5ae8353d567e17937cf407e3  5ae8353d567e17937cf407e3        True   \n",
       "6          7  5af85642ac5680781c7bb90c  5af85642ac5680781c7bb90c        True   \n",
       "\n",
       "    latitude   longitude stopName                   updated  \n",
       "0  22.249541  113.520559      明珠中  2018-05-01T09:28:00.844Z  \n",
       "1  22.256653  113.519771       翠微  2018-05-01T09:28:44.366Z  \n",
       "2  22.267762  113.536134     仁恒星园  2018-05-01T09:29:16.147Z  \n",
       "3  22.268722  113.542062     香洲区府  2018-05-01T09:35:27.388Z  \n",
       "4  22.269261  113.545517       南村  2018-05-01T09:36:33.812Z  \n",
       "5  22.276603  113.557696      兴业中  2018-05-01T09:37:01.373Z  \n",
       "6  22.372631  113.575924    南方软件园  2018-05-13T15:14:10.382Z  "
      ]
     },
     "execution_count": 71,
     "metadata": {},
     "output_type": "execute_result"
    }
   ],
   "source": [
    "#csv_stop.head()\n",
    "route_stops.head(10)\n",
    "#csv_stop.head()\n"
   ]
  },
  {
   "cell_type": "code",
   "execution_count": 2,
   "metadata": {},
   "outputs": [
    {
     "ename": "NameError",
     "evalue": "name 'csv_record' is not defined",
     "output_type": "error",
     "traceback": [
      "\u001b[1;31m---------------------------------------------------------------------------\u001b[0m",
      "\u001b[1;31mNameError\u001b[0m                                 Traceback (most recent call last)",
      "\u001b[1;32m<ipython-input-2-1acbc7cab7e1>\u001b[0m in \u001b[0;36m<module>\u001b[1;34m()\u001b[0m\n\u001b[0;32m      1\u001b[0m \u001b[1;31m#filter 5-18\u001b[0m\u001b[1;33m\u001b[0m\u001b[1;33m\u001b[0m\u001b[0m\n\u001b[1;32m----> 2\u001b[1;33m csv_record_bus1 = csv_record[(csv_record['bus']== 1.0)\n\u001b[0m\u001b[0;32m      3\u001b[0m                               & (csv_record['device']== 'stm32') ] # filter all bus1 data\n",
      "\u001b[1;31mNameError\u001b[0m: name 'csv_record' is not defined"
     ]
    }
   ],
   "source": [
    "#filter 5-18 \n",
    "csv_record_bus1 = csv_record[(csv_record['bus']== 1.0)\n",
    "                              & (csv_record['device']== 'stm32') \n",
    "                              & (pd.to_datetime(csv_record['updated']) > pd.to_datetime('2018/05/17 23:00',utc = True))\n",
    "                              & (pd.to_datetime(csv_record['updated']) < pd.to_datetime('2018/05/18 00:40',utc = True))] # filter all bus1 data"
   ]
  },
  {
   "cell_type": "code",
   "execution_count": 7,
   "metadata": {
    "collapsed": true
   },
   "outputs": [],
   "source": [
    "csv_record_bus1 = csv_record_bus1.sort_values(by = 'updated',ascending = True)"
   ]
  },
  {
   "cell_type": "code",
   "execution_count": 8,
   "metadata": {
    "collapsed": true
   },
   "outputs": [],
   "source": [
    "bus1_copy = csv_record_bus1.copy()"
   ]
  },
  {
   "cell_type": "code",
   "execution_count": 9,
   "metadata": {
    "collapsed": true
   },
   "outputs": [],
   "source": [
    "location = bus1_copy.iloc[:,3:5]"
   ]
  },
  {
   "cell_type": "code",
   "execution_count": 102,
   "metadata": {},
   "outputs": [
    {
     "data": {
      "text/html": [
       "<div>\n",
       "<style>\n",
       "    .dataframe thead tr:only-child th {\n",
       "        text-align: right;\n",
       "    }\n",
       "\n",
       "    .dataframe thead th {\n",
       "        text-align: left;\n",
       "    }\n",
       "\n",
       "    .dataframe tbody tr th {\n",
       "        vertical-align: top;\n",
       "    }\n",
       "</style>\n",
       "<table border=\"1\" class=\"dataframe\">\n",
       "  <thead>\n",
       "    <tr style=\"text-align: right;\">\n",
       "      <th></th>\n",
       "      <th>latitude</th>\n",
       "      <th>longtitude</th>\n",
       "    </tr>\n",
       "  </thead>\n",
       "  <tbody>\n",
       "    <tr>\n",
       "      <th>9966</th>\n",
       "      <td>22.252169</td>\n",
       "      <td>113.515373</td>\n",
       "    </tr>\n",
       "    <tr>\n",
       "      <th>9967</th>\n",
       "      <td>22.252136</td>\n",
       "      <td>113.515480</td>\n",
       "    </tr>\n",
       "    <tr>\n",
       "      <th>9968</th>\n",
       "      <td>22.252207</td>\n",
       "      <td>113.515297</td>\n",
       "    </tr>\n",
       "    <tr>\n",
       "      <th>9969</th>\n",
       "      <td>22.252222</td>\n",
       "      <td>113.515213</td>\n",
       "    </tr>\n",
       "    <tr>\n",
       "      <th>9970</th>\n",
       "      <td>22.252190</td>\n",
       "      <td>113.515236</td>\n",
       "    </tr>\n",
       "  </tbody>\n",
       "</table>\n",
       "</div>"
      ],
      "text/plain": [
       "       latitude  longtitude\n",
       "9966  22.252169  113.515373\n",
       "9967  22.252136  113.515480\n",
       "9968  22.252207  113.515297\n",
       "9969  22.252222  113.515213\n",
       "9970  22.252190  113.515236"
      ]
     },
     "execution_count": 102,
     "metadata": {},
     "output_type": "execute_result"
    }
   ],
   "source": [
    "location.head()"
   ]
  },
  {
   "cell_type": "code",
   "execution_count": 120,
   "metadata": {},
   "outputs": [
    {
     "data": {
      "text/plain": [
       "[<matplotlib.lines.Line2D at 0x1e712be0c50>]"
      ]
     },
     "execution_count": 120,
     "metadata": {},
     "output_type": "execute_result"
    },
    {
     "data": {
      "image/png": "[encoded data removed]",
      "text/plain": [
       "<matplotlib.figure.Figure at 0x1e712c8b518>"
      ]
     },
     "metadata": {},
     "output_type": "display_data"
    }
   ],
   "source": [
    "plt.plot(location['latitude'],location['longtitude'],'ro')"
   ]
  },
  {
   "cell_type": "code",
   "execution_count": 12,
   "metadata": {
    "collapsed": true
   },
   "outputs": [],
   "source": [
    "#get csv_record_bus1 1 day's data for distance calculate()\n"
   ]
  },
  {
   "cell_type": "code",
   "execution_count": 117,
   "metadata": {
    "collapsed": true
   },
   "outputs": [],
   "source": [
    "#坐标系转平面坐标\n",
    "def mct2x(lat):\n",
    "    x = lat/ 20037508.3427892 * 180 \n",
    "    #y = lon/ 20037508.3427892 * 180 \n",
    "    #y = 180 / math.pi * (2 * math.atan(math.exp(y * math.pi / 180)) - math.pi / 2) \n",
    "    return x\n",
    "def mct2y(lon):\n",
    "    result = []\n",
    "    for i in lon:\n",
    "        y = i/ 20037508.3427892 * 180 \n",
    "        y = 180 / math.pi * (2 * math.atan(math.exp(y * math.pi / 180)) - math.pi / 2) \n",
    "        result.append(y)\n",
    "    return result"
   ]
  },
  {
   "cell_type": "code",
   "execution_count": 118,
   "metadata": {},
   "outputs": [],
   "source": [
    "location.latitude = mct2x(location.latitude)\n",
    "location.longtitude = mct2y(location.longtitude)"
   ]
  },
  {
   "cell_type": "code",
   "execution_count": 119,
   "metadata": {},
   "outputs": [
    {
     "data": {
      "text/html": [
       "<div>\n",
       "<style>\n",
       "    .dataframe thead tr:only-child th {\n",
       "        text-align: right;\n",
       "    }\n",
       "\n",
       "    .dataframe thead th {\n",
       "        text-align: left;\n",
       "    }\n",
       "\n",
       "    .dataframe tbody tr th {\n",
       "        vertical-align: top;\n",
       "    }\n",
       "</style>\n",
       "<table border=\"1\" class=\"dataframe\">\n",
       "  <thead>\n",
       "    <tr style=\"text-align: right;\">\n",
       "      <th></th>\n",
       "      <th>latitude</th>\n",
       "      <th>longtitude</th>\n",
       "    </tr>\n",
       "  </thead>\n",
       "  <tbody>\n",
       "    <tr>\n",
       "      <th>9966</th>\n",
       "      <td>1.613090e-14</td>\n",
       "      <td>0.00102</td>\n",
       "    </tr>\n",
       "    <tr>\n",
       "      <th>9967</th>\n",
       "      <td>1.613088e-14</td>\n",
       "      <td>0.00102</td>\n",
       "    </tr>\n",
       "    <tr>\n",
       "      <th>9968</th>\n",
       "      <td>1.613093e-14</td>\n",
       "      <td>0.00102</td>\n",
       "    </tr>\n",
       "    <tr>\n",
       "      <th>9969</th>\n",
       "      <td>1.613094e-14</td>\n",
       "      <td>0.00102</td>\n",
       "    </tr>\n",
       "    <tr>\n",
       "      <th>9970</th>\n",
       "      <td>1.613092e-14</td>\n",
       "      <td>0.00102</td>\n",
       "    </tr>\n",
       "  </tbody>\n",
       "</table>\n",
       "</div>"
      ],
      "text/plain": [
       "          latitude  longtitude\n",
       "9966  1.613090e-14     0.00102\n",
       "9967  1.613088e-14     0.00102\n",
       "9968  1.613093e-14     0.00102\n",
       "9969  1.613094e-14     0.00102\n",
       "9970  1.613092e-14     0.00102"
      ]
     },
     "execution_count": 119,
     "metadata": {},
     "output_type": "execute_result"
    }
   ],
   "source": [
    "location.head()"
   ]
  },
  {
   "cell_type": "code",
   "execution_count": null,
   "metadata": {
    "collapsed": true
   },
   "outputs": [],
   "source": []
  }
 ],
 "metadata": {
  "kernelspec": {
   "display_name": "Python 3",
   "language": "python",
   "name": "python3"
  },
  "language_info": {
   "codemirror_mode": {
    "name": "ipython",
    "version": 3
   },
   "file_extension": ".py",
   "mimetype": "text/x-python",
   "name": "python",
   "nbconvert_exporter": "python",
   "pygments_lexer": "ipython3",
   "version": "3.6.5"
  }
 },
 "nbformat": 4,
 "nbformat_minor": 2
}
