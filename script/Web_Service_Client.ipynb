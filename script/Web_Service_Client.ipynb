{
 "cells": [
  {
   "cell_type": "markdown",
   "metadata": {},
   "source": [
    "# Web Service Client"
   ]
  },
  {
   "cell_type": "code",
   "execution_count": null,
   "metadata": {
    "collapsed": true
   },
   "outputs": [],
   "source": [
    "from zeep import Client\n",
    "\n",
    "ip = '127.0.0.1'\n",
    "port = 8000\n",
    "client = Client(\"http://%s:%s/?wsdl\" % (ip, port))\n",
    "# print(client.wsdl.dump())\n",
    "\n",
    "### say_hello\n",
    "factory = client.type_factory(\"ns0\")\n",
    "r = client.service.say_hello('张三', 3)\n",
    "print(r)\n",
    "\n",
    "### say_hello_1\n",
    "factory = client.type_factory(\"ns0\")\n",
    "person = factory.Person(name='zhangsan', age=23)\n",
    "persons = factory.PersonArray([person, person])\n",
    "r = client.service.say_hello_1(persons)\n",
    "print(r)\n",
    "\n",
    "\n",
    "### say_hello_2\n",
    "factory = client.type_factory(\"ns0\")\n",
    "persons = factory.stringArray([\"zhansgan\", \"lisi\"])\n",
    "r = client.service.say_hello_2(persons)\n",
    "print(r)"
   ]
  },
  {
   "cell_type": "code",
   "execution_count": null,
   "metadata": {},
   "outputs": [],
   "source": [
    "from zeep import Client\n",
    "\n",
    "ip = '127.0.0.1'\n",
    "port = 8000\n",
    "client = Client(\"http://%s:%s/?wsdl\" % (ip, port))\n",
    "\n",
    "\n",
    "### predict\n",
    "factory = client.type_factory(\"ns0\")\n",
    "bus_position = factory.Bus_Position(latitude = 'latitude', longitude = 'longitude',\n",
    "                              routeNumber = 'routeNumber', updated = 'updated',\n",
    "                              plannedArrivalTime = 'plannedArrivalTime', device = 'device',\n",
    "                              segment = 'segment')\n",
    "bus_positions = factory.Bus_PositionArray([bus_position])\n",
    "r = client.service.predict(bus_positions)\n",
    "print(r)"
   ]
  },
  {
   "cell_type": "code",
   "execution_count": null,
   "metadata": {
    "collapsed": true
   },
   "outputs": [],
   "source": []
  }
 ],
 "metadata": {
  "kernelspec": {
   "display_name": "Python 3",
   "language": "python",
   "name": "python3"
  },
  "language_info": {
   "codemirror_mode": {
    "name": "ipython",
    "version": 3
   },
   "file_extension": ".py",
   "mimetype": "text/x-python",
   "name": "python",
   "nbconvert_exporter": "python",
   "pygments_lexer": "ipython3",
   "version": "3.6.3"
  }
 },
 "nbformat": 4,
 "nbformat_minor": 2
}
