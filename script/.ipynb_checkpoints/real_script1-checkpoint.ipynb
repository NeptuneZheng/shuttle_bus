{
 "cells": [
  {
   "cell_type": "markdown",
   "metadata": {},
   "source": [
    "# Shuttlt bus data analysis"
   ]
  },
  {
   "cell_type": "markdown",
   "metadata": {},
   "source": [
    "### note: not calculate distance and predict by original data "
   ]
  },
  {
   "cell_type": "code",
   "execution_count": 1,
   "metadata": {
    "collapsed": true
   },
   "outputs": [],
   "source": [
    "%matplotlib inline"
   ]
  },
  {
   "cell_type": "code",
   "execution_count": 2,
   "metadata": {
    "collapsed": true
   },
   "outputs": [],
   "source": [
    "import pandas as pd\n",
    "import numpy as np\n",
    "import matplotlib.pyplot as plt\n",
    "import math as math\n",
    "import plotly\n",
    "from datetime import tzinfo, timedelta, datetime"
   ]
  },
  {
   "cell_type": "markdown",
   "metadata": {},
   "source": [
    "### load file"
   ]
  },
  {
   "cell_type": "code",
   "execution_count": 3,
   "metadata": {
    "collapsed": true
   },
   "outputs": [],
   "source": [
    "#get the stop segment\n",
    "csv_stop = pd.read_csv(\"./../data/iot.stops.csv\",sep = '\\t',header = 0)\n",
    "csv_route = pd.read_csv(\"./../data/iot.routes.csv\",sep = '\\t',header = 0)\n",
    "\n",
    "#for calculate the distances between 2 stops \n",
    "csv_record = pd.read_csv(\"./../data/iot.locations.csv\",sep = '\\t',header = 0)"
   ]
  },
  {
   "cell_type": "markdown",
   "metadata": {},
   "source": [
    "## 1. data display"
   ]
  },
  {
   "cell_type": "markdown",
   "metadata": {},
   "source": [
    "### @functions"
   ]
  },
  {
   "cell_type": "code",
   "execution_count": 4,
   "metadata": {},
   "outputs": [],
   "source": [
    "#坐标系转平面坐标\n",
    "def mct2x(lat):\n",
    "    x = lat/ 20037508.3427892 * 180 \n",
    "    return x\n",
    "def mct2y(lon):\n",
    "    result = []\n",
    "    for i in lon:\n",
    "        y = i/ 20037508.3427892 * 180 \n",
    "        y = 180 / math.pi * (2 * math.atan(math.exp(y * math.pi / 180)) - math.pi / 2) \n",
    "        result.append(y)\n",
    "    return result\n",
    "\n",
    "# record should order by longitude first\n",
    "def core_field_extra(stops,records):\n",
    "    start = datetime.now()\n",
    "    \n",
    "    df =pd.DataFrame(columns = ['latitude','longitude','routeNumber','updated','plannedArrivalTime','device','segment','ATE'])\n",
    "    latitude = '' \n",
    "    longitude = ''\n",
    "    routeNumber = route_stops.iloc[0].routeNumber \n",
    "    updated = ''\n",
    "    plannedArrivalTime = ''\n",
    "    device = ''\n",
    "    segment = ''\n",
    "    ate = ''\n",
    "    \n",
    "    bus_tracker = 0 #// for bus stop change use\n",
    "    for raw in records.itertuples():\n",
    "        if(bus_tracker < len(stops)):\n",
    "            flag = raw.latitude < stops.iloc[[bus_tracker]].latitude\n",
    "            if(flag.any()):\n",
    "#                     print(raw)\n",
    "                    continue\n",
    "            elif(bus_tracker+1 < len(stops)):\n",
    "                if((raw.latitude >= stops.iloc[[bus_tracker]].latitude).any() & (raw.latitude <= stops.iloc[[bus_tracker+1]].latitude).any()):\n",
    "                    latitude = raw.latitude\n",
    "                    longitude = raw.longitude\n",
    "                    updated = raw.updated\n",
    "                    plannedArrivalTime = stops.iloc[bus_tracker+1].plannedArrivalTime\n",
    "                    device = raw.device\n",
    "                    segment = stops.iloc[bus_tracker,10] + '-' + stops.iloc[bus_tracker+1,10]\n",
    "                    ate = 'N/A'\n",
    "                    df = df.append({'latitude':latitude,'longitude':longitude,'routeNumber':routeNumber,\n",
    "                                   'updated':updated,'plannedArrivalTime':plannedArrivalTime,'device':device,\n",
    "                                   'segment':segment,'ATE':ate},ignore_index=True)\n",
    "                else:\n",
    "                    latitude = '' \n",
    "                    longitude = ''\n",
    "                    updated = ''\n",
    "                    plannedArrivalTime = ''\n",
    "                    device = ''\n",
    "                    segment = ''\n",
    "                    \n",
    "                    df.loc[df.ATE == 'N/A', 'ATE'] = raw.updated\n",
    "                    bus_tracker= bus_tracker + 1 \n",
    "\n",
    "#         print('sub_main_Duration:',(datetime.now() - start).total_seconds())\n",
    "#     print('sub_Duration:',(datetime.now() - start).total_seconds())\n",
    "    if(len(records) > 0):\n",
    "        df.loc[df.ATE == 'N/A', 'ATE'] = records.iloc[-1].updated\n",
    "    return df\n",
    "        \n",
    "def calculate_distance(lat1,lng1,lat2,lng2):\n",
    "    radlat1= math.radians(lat1)  \n",
    "    radlat2=math.radians(lat2)  \n",
    "    a=radlat1-radlat2  \n",
    "    b=math.radians(lng1)-math.radians(lng2)  \n",
    "    s=2*math.asin(math.sqrt(math.pow(math.sin(a/2),2)+math.cos(radlat1)*math.cos(radlat2)*math.pow(math.sin(b/2),2)))  \n",
    "    earth_radius = 6371.393  \n",
    "    s=s*earth_radius  \n",
    "    if(s<0):\n",
    "        return -s*1000\n",
    "    else:\n",
    "        return s*1000\n",
    " "
   ]
  },
  {
   "cell_type": "code",
   "execution_count": 5,
   "metadata": {
    "collapsed": true
   },
   "outputs": [],
   "source": [
    "# link route and stop info together\n",
    "csv_route_num1 = csv_route[(csv_route.routeNumber ==1) & (csv_route.isGo2Work == True) ]\n",
    "csv_route_num1 = csv_route_num1.sort_values([\"seqNumber\"],ascending = True)\n",
    "csv_route_num1 = csv_route_num1.iloc[:,1:7]\n",
    "\n",
    "route_stops = csv_route_num1.merge(csv_stop,left_on='stopId',right_on = '_id')"
   ]
  },
  {
   "cell_type": "code",
   "execution_count": 6,
   "metadata": {},
   "outputs": [
    {
     "data": {
      "text/html": [
       "<div>\n",
       "<style>\n",
       "    .dataframe thead tr:only-child th {\n",
       "        text-align: right;\n",
       "    }\n",
       "\n",
       "    .dataframe thead th {\n",
       "        text-align: left;\n",
       "    }\n",
       "\n",
       "    .dataframe tbody tr th {\n",
       "        vertical-align: top;\n",
       "    }\n",
       "</style>\n",
       "<table border=\"1\" class=\"dataframe\">\n",
       "  <thead>\n",
       "    <tr style=\"text-align: right;\">\n",
       "      <th></th>\n",
       "      <th>busId</th>\n",
       "      <th>isGo2Work</th>\n",
       "      <th>plannedArrivalTime</th>\n",
       "      <th>routeNumber</th>\n",
       "      <th>seqNumber</th>\n",
       "      <th>stopId</th>\n",
       "      <th>_id</th>\n",
       "      <th>isGoToWork</th>\n",
       "      <th>latitude</th>\n",
       "      <th>longitude</th>\n",
       "      <th>stopName</th>\n",
       "      <th>updated</th>\n",
       "    </tr>\n",
       "  </thead>\n",
       "  <tbody>\n",
       "    <tr>\n",
       "      <th>0</th>\n",
       "      <td>5ae8393c3023169da447c2ae</td>\n",
       "      <td>True</td>\n",
       "      <td>7:23</td>\n",
       "      <td>1</td>\n",
       "      <td>1</td>\n",
       "      <td>5ae83320748fb2a67c5f6e54</td>\n",
       "      <td>5ae83320748fb2a67c5f6e54</td>\n",
       "      <td>True</td>\n",
       "      <td>22.249541</td>\n",
       "      <td>113.520559</td>\n",
       "      <td>明珠中</td>\n",
       "      <td>2018-05-01T09:28:00.844Z</td>\n",
       "    </tr>\n",
       "    <tr>\n",
       "      <th>1</th>\n",
       "      <td>5ae8393c3023169da447c2ae</td>\n",
       "      <td>True</td>\n",
       "      <td>7:26</td>\n",
       "      <td>1</td>\n",
       "      <td>2</td>\n",
       "      <td>5ae8334c748fb2a67c5f6e55</td>\n",
       "      <td>5ae8334c748fb2a67c5f6e55</td>\n",
       "      <td>True</td>\n",
       "      <td>22.256653</td>\n",
       "      <td>113.519771</td>\n",
       "      <td>翠微</td>\n",
       "      <td>2018-05-01T09:28:44.366Z</td>\n",
       "    </tr>\n",
       "    <tr>\n",
       "      <th>2</th>\n",
       "      <td>5ae8393c3023169da447c2ae</td>\n",
       "      <td>True</td>\n",
       "      <td>7:34</td>\n",
       "      <td>1</td>\n",
       "      <td>3</td>\n",
       "      <td>5ae8336c748fb2a67c5f6e56</td>\n",
       "      <td>5ae8336c748fb2a67c5f6e56</td>\n",
       "      <td>True</td>\n",
       "      <td>22.267762</td>\n",
       "      <td>113.536134</td>\n",
       "      <td>仁恒星园</td>\n",
       "      <td>2018-05-01T09:29:16.147Z</td>\n",
       "    </tr>\n",
       "    <tr>\n",
       "      <th>3</th>\n",
       "      <td>5ae8393c3023169da447c2ae</td>\n",
       "      <td>True</td>\n",
       "      <td>7:37</td>\n",
       "      <td>1</td>\n",
       "      <td>4</td>\n",
       "      <td>5ae834df567e17937cf407e1</td>\n",
       "      <td>5ae834df567e17937cf407e1</td>\n",
       "      <td>True</td>\n",
       "      <td>22.268722</td>\n",
       "      <td>113.542062</td>\n",
       "      <td>香洲区府</td>\n",
       "      <td>2018-05-01T09:35:27.388Z</td>\n",
       "    </tr>\n",
       "    <tr>\n",
       "      <th>4</th>\n",
       "      <td>5ae8393c3023169da447c2ae</td>\n",
       "      <td>True</td>\n",
       "      <td>7:38</td>\n",
       "      <td>1</td>\n",
       "      <td>5</td>\n",
       "      <td>5ae83521567e17937cf407e2</td>\n",
       "      <td>5ae83521567e17937cf407e2</td>\n",
       "      <td>True</td>\n",
       "      <td>22.269261</td>\n",
       "      <td>113.545517</td>\n",
       "      <td>南村</td>\n",
       "      <td>2018-05-01T09:36:33.812Z</td>\n",
       "    </tr>\n",
       "    <tr>\n",
       "      <th>5</th>\n",
       "      <td>5ae8393c3023169da447c2ae</td>\n",
       "      <td>True</td>\n",
       "      <td>7:40</td>\n",
       "      <td>1</td>\n",
       "      <td>6</td>\n",
       "      <td>5ae8353d567e17937cf407e3</td>\n",
       "      <td>5ae8353d567e17937cf407e3</td>\n",
       "      <td>True</td>\n",
       "      <td>22.276603</td>\n",
       "      <td>113.557696</td>\n",
       "      <td>兴业中</td>\n",
       "      <td>2018-05-01T09:37:01.373Z</td>\n",
       "    </tr>\n",
       "    <tr>\n",
       "      <th>6</th>\n",
       "      <td>5ae8393c3023169da447c2ae</td>\n",
       "      <td>True</td>\n",
       "      <td>8:30</td>\n",
       "      <td>1</td>\n",
       "      <td>7</td>\n",
       "      <td>5af85642ac5680781c7bb90c</td>\n",
       "      <td>5af85642ac5680781c7bb90c</td>\n",
       "      <td>True</td>\n",
       "      <td>22.372631</td>\n",
       "      <td>113.575924</td>\n",
       "      <td>南方软件园</td>\n",
       "      <td>2018-05-13T15:14:10.382Z</td>\n",
       "    </tr>\n",
       "  </tbody>\n",
       "</table>\n",
       "</div>"
      ],
      "text/plain": [
       "                      busId  isGo2Work plannedArrivalTime  routeNumber  \\\n",
       "0  5ae8393c3023169da447c2ae       True               7:23            1   \n",
       "1  5ae8393c3023169da447c2ae       True               7:26            1   \n",
       "2  5ae8393c3023169da447c2ae       True               7:34            1   \n",
       "3  5ae8393c3023169da447c2ae       True               7:37            1   \n",
       "4  5ae8393c3023169da447c2ae       True               7:38            1   \n",
       "5  5ae8393c3023169da447c2ae       True               7:40            1   \n",
       "6  5ae8393c3023169da447c2ae       True               8:30            1   \n",
       "\n",
       "   seqNumber                    stopId                       _id  isGoToWork  \\\n",
       "0          1  5ae83320748fb2a67c5f6e54  5ae83320748fb2a67c5f6e54        True   \n",
       "1          2  5ae8334c748fb2a67c5f6e55  5ae8334c748fb2a67c5f6e55        True   \n",
       "2          3  5ae8336c748fb2a67c5f6e56  5ae8336c748fb2a67c5f6e56        True   \n",
       "3          4  5ae834df567e17937cf407e1  5ae834df567e17937cf407e1        True   \n",
       "4          5  5ae83521567e17937cf407e2  5ae83521567e17937cf407e2        True   \n",
       "5          6  5ae8353d567e17937cf407e3  5ae8353d567e17937cf407e3        True   \n",
       "6          7  5af85642ac5680781c7bb90c  5af85642ac5680781c7bb90c        True   \n",
       "\n",
       "    latitude   longitude stopName                   updated  \n",
       "0  22.249541  113.520559      明珠中  2018-05-01T09:28:00.844Z  \n",
       "1  22.256653  113.519771       翠微  2018-05-01T09:28:44.366Z  \n",
       "2  22.267762  113.536134     仁恒星园  2018-05-01T09:29:16.147Z  \n",
       "3  22.268722  113.542062     香洲区府  2018-05-01T09:35:27.388Z  \n",
       "4  22.269261  113.545517       南村  2018-05-01T09:36:33.812Z  \n",
       "5  22.276603  113.557696      兴业中  2018-05-01T09:37:01.373Z  \n",
       "6  22.372631  113.575924    南方软件园  2018-05-13T15:14:10.382Z  "
      ]
     },
     "execution_count": 6,
     "metadata": {},
     "output_type": "execute_result"
    }
   ],
   "source": [
    "route_stops.head(10)"
   ]
  },
  {
   "cell_type": "code",
   "execution_count": 7,
   "metadata": {
    "collapsed": true
   },
   "outputs": [],
   "source": [
    "#filter 2018-5-30 \n",
    "csv_record_bus1 = csv_record[(csv_record['bus']== 1.0)\n",
    "                              & (csv_record['device']!= 'arduino')\n",
    "                              & (pd.to_datetime(csv_record['updated'],utc = True) > pd.to_datetime('2018/05/29 23:00',utc = True))\n",
    "                              & (pd.to_datetime(csv_record['updated'],utc = True) < pd.to_datetime('2018/05/30 00:40',utc = True))] # filter all bus1 data"
   ]
  },
  {
   "cell_type": "code",
   "execution_count": 8,
   "metadata": {},
   "outputs": [
    {
     "data": {
      "text/html": [
       "<div>\n",
       "<style>\n",
       "    .dataframe thead tr:only-child th {\n",
       "        text-align: right;\n",
       "    }\n",
       "\n",
       "    .dataframe thead th {\n",
       "        text-align: left;\n",
       "    }\n",
       "\n",
       "    .dataframe tbody tr th {\n",
       "        vertical-align: top;\n",
       "    }\n",
       "</style>\n",
       "<table border=\"1\" class=\"dataframe\">\n",
       "  <thead>\n",
       "    <tr style=\"text-align: right;\">\n",
       "      <th></th>\n",
       "      <th>bus</th>\n",
       "      <th>device</th>\n",
       "      <th>latitude</th>\n",
       "      <th>longitude</th>\n",
       "      <th>updated</th>\n",
       "    </tr>\n",
       "  </thead>\n",
       "  <tbody>\n",
       "    <tr>\n",
       "      <th>3134</th>\n",
       "      <td>1</td>\n",
       "      <td>stm32</td>\n",
       "      <td>22.249014</td>\n",
       "      <td>113.520707</td>\n",
       "      <td>2018-05-29T23:21:43.842Z</td>\n",
       "    </tr>\n",
       "    <tr>\n",
       "      <th>3135</th>\n",
       "      <td>1</td>\n",
       "      <td>stm32</td>\n",
       "      <td>22.249225</td>\n",
       "      <td>113.520638</td>\n",
       "      <td>2018-05-29T23:22:14.549Z</td>\n",
       "    </tr>\n",
       "    <tr>\n",
       "      <th>3136</th>\n",
       "      <td>1</td>\n",
       "      <td>stm32</td>\n",
       "      <td>22.249286</td>\n",
       "      <td>113.520600</td>\n",
       "      <td>2018-05-29T23:22:31.428Z</td>\n",
       "    </tr>\n",
       "    <tr>\n",
       "      <th>3137</th>\n",
       "      <td>1</td>\n",
       "      <td>stm32</td>\n",
       "      <td>22.249292</td>\n",
       "      <td>113.520736</td>\n",
       "      <td>2018-05-29T23:22:47.368Z</td>\n",
       "    </tr>\n",
       "    <tr>\n",
       "      <th>3138</th>\n",
       "      <td>1</td>\n",
       "      <td>stm32</td>\n",
       "      <td>22.249290</td>\n",
       "      <td>113.520820</td>\n",
       "      <td>2018-05-29T23:23:03.585Z</td>\n",
       "    </tr>\n",
       "  </tbody>\n",
       "</table>\n",
       "</div>"
      ],
      "text/plain": [
       "      bus device   latitude   longitude                   updated\n",
       "3134    1  stm32  22.249014  113.520707  2018-05-29T23:21:43.842Z\n",
       "3135    1  stm32  22.249225  113.520638  2018-05-29T23:22:14.549Z\n",
       "3136    1  stm32  22.249286  113.520600  2018-05-29T23:22:31.428Z\n",
       "3137    1  stm32  22.249292  113.520736  2018-05-29T23:22:47.368Z\n",
       "3138    1  stm32  22.249290  113.520820  2018-05-29T23:23:03.585Z"
      ]
     },
     "execution_count": 8,
     "metadata": {},
     "output_type": "execute_result"
    }
   ],
   "source": [
    "csv_record_bus1 = csv_record_bus1.sort_values(by = 'updated',ascending = True)\n",
    "bus1_copy = csv_record_bus1.copy()\n",
    "location = bus1_copy\n",
    "\n",
    "location.head()"
   ]
  },
  {
   "cell_type": "code",
   "execution_count": 9,
   "metadata": {},
   "outputs": [
    {
     "data": {
      "text/plain": [
       "[<matplotlib.lines.Line2D at 0x1c8e2a64240>]"
      ]
     },
     "execution_count": 9,
     "metadata": {},
     "output_type": "execute_result"
    },
    {
     "data": {
      "image/png": "[encoded data removed]",
      "text/plain": [
       "<matplotlib.figure.Figure at 0x1c8e12f4c50>"
      ]
     },
     "metadata": {},
     "output_type": "display_data"
    }
   ],
   "source": [
    "plt.plot(location['longitude'],location['latitude'],'ro')"
   ]
  },
  {
   "cell_type": "code",
   "execution_count": 10,
   "metadata": {},
   "outputs": [
    {
     "data": {
      "text/plain": [
       "[<matplotlib.lines.Line2D at 0x1c8e2ae2358>,\n",
       " <matplotlib.lines.Line2D at 0x1c8e2ae2518>]"
      ]
     },
     "execution_count": 10,
     "metadata": {},
     "output_type": "execute_result"
    },
    {
     "data": {
      "image/png": "[encoded data removed]",
      "text/plain": [
       "<matplotlib.figure.Figure at 0x1c8e2a81fd0>"
      ]
     },
     "metadata": {},
     "output_type": "display_data"
    }
   ],
   "source": [
    "plt.plot(route_stops.longitude,route_stops.latitude, \"go\",location['longitude'],location['latitude'],'r--')"
   ]
  },
  {
   "cell_type": "markdown",
   "metadata": {},
   "source": [
    "## 2.data extra"
   ]
  },
  {
   "cell_type": "markdown",
   "metadata": {},
   "source": [
    "### @functions"
   ]
  },
  {
   "cell_type": "code",
   "execution_count": 11,
   "metadata": {
    "collapsed": true
   },
   "outputs": [],
   "source": [
    "# start_date: date time start, string format: yyyy/MM/dd HH:mm, kindly remind start HH:mm should be '23:00'\n",
    "# stop_date: date time ending, string format: yyyy/MM/dd HH:mm, kindly remind stop HH:mm should be '00:40'\n",
    "# records\n",
    "\n",
    "def extra_train_test_data(start_date,stop_date,records,stops):\n",
    "    # caluculate the time span of all data by day, and arrange the data  \n",
    "    start = datetime.now()\n",
    "    time_span = pd.to_datetime(stop_date,utc = True) - pd.to_datetime(start_date,utc = True)\n",
    "    time_span = time_span.days +1\n",
    "\n",
    "\n",
    "    final_df = pd.DataFrame(columns = ['latitude','longitude','routeNumber','updated','plannedArrivalTime','device','segment','ATE'])\n",
    "\n",
    "    for i in range(time_span):\n",
    "        current_start_date = pd.to_datetime(start_date,utc = True) + timedelta(days = i)\n",
    "        current_stop_date = current_start_date + timedelta(hours = 1, minutes = 40)\n",
    "        \n",
    "#         print('current_start_date: ' + str(current_start_date))\n",
    "#         print('current_stop_date' + str(current_stop_date))\n",
    "        current_record_busi_all = records[(pd.to_datetime(records['updated'],utc = True) > pd.to_datetime(current_start_date,utc = True))\n",
    "                              & (pd.to_datetime(records['updated'],utc = True) < pd.to_datetime(current_stop_date,utc = True))] \n",
    "        current_location = current_record_busi_all\n",
    "#         print('total location: ' + str(current_location.shape))\n",
    "#         print('main_sub_Duration:',(datetime.now() - start).total_seconds())\n",
    "        current_extra = core_field_extra(stops,current_location)\n",
    "        final_df = final_df.append(current_extra, ignore_index=True)\n",
    "    \n",
    "        \n",
    "     # save the result to csv\n",
    "    final_df.to_csv('./../data/pure_data/pure_data1.csv',sep = '|',encoding = 'utf-8') \n",
    "\n",
    "    print('----------------------------------')\n",
    "    print('all data start date: ' + str(pd.to_datetime(csv_record_bus1_all.iloc[0].updated,utc = True)))\n",
    "    print('all data ending date: ' + str(pd.to_datetime(csv_record_bus1_all.iloc[-1].updated,utc = True)))\n",
    "    print('time span(/day): ' + str(time_span))\n",
    "    print('Duration:',(datetime.now() - start).total_seconds())\n",
    "    print('----------------------------------')\n",
    "    \n",
    "    return final_df"
   ]
  },
  {
   "cell_type": "markdown",
   "metadata": {},
   "source": [
    "### A.sample for test"
   ]
  },
  {
   "cell_type": "code",
   "execution_count": null,
   "metadata": {},
   "outputs": [],
   "source": []
  },
  {
   "cell_type": "code",
   "execution_count": 12,
   "metadata": {},
   "outputs": [
    {
     "data": {
      "text/html": [
       "<div>\n",
       "<style>\n",
       "    .dataframe thead tr:only-child th {\n",
       "        text-align: right;\n",
       "    }\n",
       "\n",
       "    .dataframe thead th {\n",
       "        text-align: left;\n",
       "    }\n",
       "\n",
       "    .dataframe tbody tr th {\n",
       "        vertical-align: top;\n",
       "    }\n",
       "</style>\n",
       "<table border=\"1\" class=\"dataframe\">\n",
       "  <thead>\n",
       "    <tr style=\"text-align: right;\">\n",
       "      <th></th>\n",
       "      <th>latitude</th>\n",
       "      <th>longitude</th>\n",
       "      <th>routeNumber</th>\n",
       "      <th>updated</th>\n",
       "      <th>plannedArrivalTime</th>\n",
       "      <th>device</th>\n",
       "      <th>segment</th>\n",
       "      <th>ATE</th>\n",
       "    </tr>\n",
       "  </thead>\n",
       "  <tbody>\n",
       "    <tr>\n",
       "      <th>228</th>\n",
       "      <td>22.369847</td>\n",
       "      <td>113.588571</td>\n",
       "      <td>1</td>\n",
       "      <td>2018-05-30T00:23:26.411Z</td>\n",
       "      <td>8:30</td>\n",
       "      <td>stm32</td>\n",
       "      <td>兴业中-南方软件园</td>\n",
       "      <td>2018-05-30T00:26:14.104Z</td>\n",
       "    </tr>\n",
       "    <tr>\n",
       "      <th>229</th>\n",
       "      <td>22.370419</td>\n",
       "      <td>113.587147</td>\n",
       "      <td>1</td>\n",
       "      <td>2018-05-30T00:24:05.828Z</td>\n",
       "      <td>8:30</td>\n",
       "      <td>stm32</td>\n",
       "      <td>兴业中-南方软件园</td>\n",
       "      <td>2018-05-30T00:26:14.104Z</td>\n",
       "    </tr>\n",
       "    <tr>\n",
       "      <th>230</th>\n",
       "      <td>22.370753</td>\n",
       "      <td>113.585927</td>\n",
       "      <td>1</td>\n",
       "      <td>2018-05-30T00:24:59.959Z</td>\n",
       "      <td>8:30</td>\n",
       "      <td>stm32</td>\n",
       "      <td>兴业中-南方软件园</td>\n",
       "      <td>2018-05-30T00:26:14.104Z</td>\n",
       "    </tr>\n",
       "    <tr>\n",
       "      <th>231</th>\n",
       "      <td>22.370764</td>\n",
       "      <td>113.585904</td>\n",
       "      <td>1</td>\n",
       "      <td>2018-05-30T00:25:16.297Z</td>\n",
       "      <td>8:30</td>\n",
       "      <td>stm32</td>\n",
       "      <td>兴业中-南方软件园</td>\n",
       "      <td>2018-05-30T00:26:14.104Z</td>\n",
       "    </tr>\n",
       "    <tr>\n",
       "      <th>232</th>\n",
       "      <td>22.372485</td>\n",
       "      <td>113.581340</td>\n",
       "      <td>1</td>\n",
       "      <td>2018-05-30T00:25:57.489Z</td>\n",
       "      <td>8:30</td>\n",
       "      <td>stm32</td>\n",
       "      <td>兴业中-南方软件园</td>\n",
       "      <td>2018-05-30T00:26:14.104Z</td>\n",
       "    </tr>\n",
       "  </tbody>\n",
       "</table>\n",
       "</div>"
      ],
      "text/plain": [
       "      latitude   longitude routeNumber                   updated  \\\n",
       "228  22.369847  113.588571           1  2018-05-30T00:23:26.411Z   \n",
       "229  22.370419  113.587147           1  2018-05-30T00:24:05.828Z   \n",
       "230  22.370753  113.585927           1  2018-05-30T00:24:59.959Z   \n",
       "231  22.370764  113.585904           1  2018-05-30T00:25:16.297Z   \n",
       "232  22.372485  113.581340           1  2018-05-30T00:25:57.489Z   \n",
       "\n",
       "    plannedArrivalTime device    segment                       ATE  \n",
       "228               8:30  stm32  兴业中-南方软件园  2018-05-30T00:26:14.104Z  \n",
       "229               8:30  stm32  兴业中-南方软件园  2018-05-30T00:26:14.104Z  \n",
       "230               8:30  stm32  兴业中-南方软件园  2018-05-30T00:26:14.104Z  \n",
       "231               8:30  stm32  兴业中-南方软件园  2018-05-30T00:26:14.104Z  \n",
       "232               8:30  stm32  兴业中-南方软件园  2018-05-30T00:26:14.104Z  "
      ]
     },
     "execution_count": 12,
     "metadata": {},
     "output_type": "execute_result"
    }
   ],
   "source": [
    "#show 5.30 data extra result\n",
    "_5_30 = core_field_extra(route_stops,location)\n",
    "sh = _5_30[_5_30.ATE == 'N/A']\n",
    "_5_30.tail()"
   ]
  },
  {
   "cell_type": "code",
   "execution_count": 13,
   "metadata": {},
   "outputs": [],
   "source": [
    "# train_data_set.to_csv('./../data/pure_data/_5_30.csv',sep = '|',encoding = 'utf-8')  # save the result to csv"
   ]
  },
  {
   "cell_type": "markdown",
   "metadata": {},
   "source": [
    "### B.extra all history records"
   ]
  },
  {
   "cell_type": "code",
   "execution_count": 14,
   "metadata": {
    "collapsed": true
   },
   "outputs": [],
   "source": [
    "# filter all stm32 data from 5,22 to 5,30\n",
    "csv_record_bus1_all = csv_record[(csv_record['bus']== 1.0)\n",
    "                              & (csv_record['device']!= 'arduino')\n",
    "                              & (pd.to_datetime(csv_record['updated'],utc = True) > pd.to_datetime('2018/05/21 23:00',utc = True))\n",
    "                              & (pd.to_datetime(csv_record['updated'],utc = True) < pd.to_datetime('2018/06/26 00:40',utc = True))] # filter all bus1 data\n"
   ]
  },
  {
   "cell_type": "code",
   "execution_count": 15,
   "metadata": {},
   "outputs": [
    {
     "data": {
      "text/plain": [
       "(45743, 5)"
      ]
     },
     "execution_count": 15,
     "metadata": {},
     "output_type": "execute_result"
    }
   ],
   "source": [
    "csv_record_bus1_all = csv_record_bus1_all.sort_values(by = 'updated',ascending = True)\n",
    "csv_record_bus1_all.shape"
   ]
  },
  {
   "cell_type": "code",
   "execution_count": 16,
   "metadata": {
    "collapsed": true
   },
   "outputs": [],
   "source": [
    "# # caluculate the time span of all data by day, and arrange the data  \n",
    "# time_span = pd.to_datetime(csv_record_bus1_all.iloc[-1].updated,utc = True) - pd.to_datetime(csv_record_bus1_all.iloc[0].updated,utc = True)\n",
    "# time_span = time_span.days +1\n",
    "\n",
    "\n",
    "# final_df = pd.DataFrame(columns = ['segment','distance(unit: m)','frequency','span(unit: s)','routeNumber'])\n",
    "\n",
    "# for i in range(time_span):\n",
    "#     current_start_date = pd.to_datetime('2018/05/21 23:00',utc = True) + timedelta(days = i)\n",
    "#     current_stop_date = pd.to_datetime('2018/05/22 00:40',utc = True) + timedelta(days = i + 1)\n",
    "\n",
    "#     current_record_busi_all = csv_record_bus1_all[(pd.to_datetime(csv_record_bus1_all['updated'],utc = True) > pd.to_datetime(current_start_date,utc = True))\n",
    "#                               & (pd.to_datetime(csv_record_bus1_all['updated'],utc = True) < pd.to_datetime(current_stop_date,utc = True))] \n",
    "#     current_location = current_record_busi_all.iloc[:,2:6]\n",
    "#     current_extra = core_field_extra(route_stops,current_location)\n",
    "#     final_df = final_df.append(current_extra, ignore_index=True)\n",
    "    \n",
    "    \n",
    "#  # save the result to csv\n",
    "# final_df.to_csv('./../data/pure_data/pure_data.csv',sep = '|',encoding = 'utf-8') \n",
    "\n",
    "# print('----------------------------------')\n",
    "# print('all data start date: ' + str(pd.to_datetime(csv_record_bus1_all.iloc[0].updated,utc = True)))\n",
    "# print('all data ending date: ' + str(pd.to_datetime(csv_record_bus1_all.iloc[-1].updated,utc = True)))\n",
    "# print('time span(/day): ' + str(time_span))\n",
    "# print('----------------------------------')\n"
   ]
  },
  {
   "cell_type": "code",
   "execution_count": 17,
   "metadata": {
    "collapsed": true
   },
   "outputs": [],
   "source": [
    "# final_df = final_df.sort_values(by = 'segment',ascending = True)"
   ]
  },
  {
   "cell_type": "code",
   "execution_count": 18,
   "metadata": {},
   "outputs": [
    {
     "name": "stdout",
     "output_type": "stream",
     "text": [
      "----------------------------------\n",
      "all data start date: 2018-05-21 23:21:32.022000+00:00\n",
      "all data ending date: 2018-06-25 06:15:12.424000+00:00\n",
      "time span(/day): 36\n",
      "Duration: 42.099972\n",
      "----------------------------------\n",
      "(8479, 8)\n"
     ]
    },
    {
     "data": {
      "text/html": [
       "<div>\n",
       "<style>\n",
       "    .dataframe thead tr:only-child th {\n",
       "        text-align: right;\n",
       "    }\n",
       "\n",
       "    .dataframe thead th {\n",
       "        text-align: left;\n",
       "    }\n",
       "\n",
       "    .dataframe tbody tr th {\n",
       "        vertical-align: top;\n",
       "    }\n",
       "</style>\n",
       "<table border=\"1\" class=\"dataframe\">\n",
       "  <thead>\n",
       "    <tr style=\"text-align: right;\">\n",
       "      <th></th>\n",
       "      <th>latitude</th>\n",
       "      <th>longitude</th>\n",
       "      <th>routeNumber</th>\n",
       "      <th>updated</th>\n",
       "      <th>plannedArrivalTime</th>\n",
       "      <th>device</th>\n",
       "      <th>segment</th>\n",
       "      <th>ATE</th>\n",
       "    </tr>\n",
       "  </thead>\n",
       "  <tbody>\n",
       "    <tr>\n",
       "      <th>0</th>\n",
       "      <td>22.251497</td>\n",
       "      <td>113.516144</td>\n",
       "      <td>1</td>\n",
       "      <td>2018-05-21T23:21:32.022Z</td>\n",
       "      <td>7:26</td>\n",
       "      <td>stm32</td>\n",
       "      <td>明珠中-翠微</td>\n",
       "      <td>2018-05-21T23:25:48.272Z</td>\n",
       "    </tr>\n",
       "    <tr>\n",
       "      <th>1</th>\n",
       "      <td>22.251520</td>\n",
       "      <td>113.515953</td>\n",
       "      <td>1</td>\n",
       "      <td>2018-05-21T23:21:46.123Z</td>\n",
       "      <td>7:26</td>\n",
       "      <td>stm32</td>\n",
       "      <td>明珠中-翠微</td>\n",
       "      <td>2018-05-21T23:25:48.272Z</td>\n",
       "    </tr>\n",
       "    <tr>\n",
       "      <th>2</th>\n",
       "      <td>22.251549</td>\n",
       "      <td>113.515785</td>\n",
       "      <td>1</td>\n",
       "      <td>2018-05-21T23:22:00.263Z</td>\n",
       "      <td>7:26</td>\n",
       "      <td>stm32</td>\n",
       "      <td>明珠中-翠微</td>\n",
       "      <td>2018-05-21T23:25:48.272Z</td>\n",
       "    </tr>\n",
       "    <tr>\n",
       "      <th>3</th>\n",
       "      <td>22.251701</td>\n",
       "      <td>113.515640</td>\n",
       "      <td>1</td>\n",
       "      <td>2018-05-21T23:22:14.362Z</td>\n",
       "      <td>7:26</td>\n",
       "      <td>stm32</td>\n",
       "      <td>明珠中-翠微</td>\n",
       "      <td>2018-05-21T23:25:48.272Z</td>\n",
       "    </tr>\n",
       "    <tr>\n",
       "      <th>4</th>\n",
       "      <td>22.251860</td>\n",
       "      <td>113.515617</td>\n",
       "      <td>1</td>\n",
       "      <td>2018-05-21T23:22:30.501Z</td>\n",
       "      <td>7:26</td>\n",
       "      <td>stm32</td>\n",
       "      <td>明珠中-翠微</td>\n",
       "      <td>2018-05-21T23:25:48.272Z</td>\n",
       "    </tr>\n",
       "  </tbody>\n",
       "</table>\n",
       "</div>"
      ],
      "text/plain": [
       "    latitude   longitude routeNumber                   updated  \\\n",
       "0  22.251497  113.516144           1  2018-05-21T23:21:32.022Z   \n",
       "1  22.251520  113.515953           1  2018-05-21T23:21:46.123Z   \n",
       "2  22.251549  113.515785           1  2018-05-21T23:22:00.263Z   \n",
       "3  22.251701  113.515640           1  2018-05-21T23:22:14.362Z   \n",
       "4  22.251860  113.515617           1  2018-05-21T23:22:30.501Z   \n",
       "\n",
       "  plannedArrivalTime device segment                       ATE  \n",
       "0               7:26  stm32  明珠中-翠微  2018-05-21T23:25:48.272Z  \n",
       "1               7:26  stm32  明珠中-翠微  2018-05-21T23:25:48.272Z  \n",
       "2               7:26  stm32  明珠中-翠微  2018-05-21T23:25:48.272Z  \n",
       "3               7:26  stm32  明珠中-翠微  2018-05-21T23:25:48.272Z  \n",
       "4               7:26  stm32  明珠中-翠微  2018-05-21T23:25:48.272Z  "
      ]
     },
     "execution_count": 18,
     "metadata": {},
     "output_type": "execute_result"
    }
   ],
   "source": [
    "final_df = extra_train_test_data('2018/05/21 23:00','2018/06/26 00:40',csv_record_bus1_all,route_stops)\n",
    "print(final_df.shape)\n",
    "final_df.head()"
   ]
  },
  {
   "cell_type": "markdown",
   "metadata": {},
   "source": [
    "### C.split the whole analysis data into train set and test set"
   ]
  },
  {
   "cell_type": "code",
   "execution_count": 19,
   "metadata": {},
   "outputs": [
    {
     "name": "stdout",
     "output_type": "stream",
     "text": [
      "----------------------------------\n",
      "all data start date: 2018-05-21 23:21:32.022000+00:00\n",
      "all data ending date: 2018-06-25 06:15:12.424000+00:00\n",
      "time span(/day): 28\n",
      "Duration: 19.108687\n",
      "----------------------------------\n",
      "----------------------------------\n",
      "all data start date: 2018-05-21 23:21:32.022000+00:00\n",
      "all data ending date: 2018-06-25 06:15:12.424000+00:00\n",
      "time span(/day): 8\n",
      "Duration: 22.013945\n",
      "----------------------------------\n",
      "train_data_set shape: (3700, 8)\n",
      "test_data_set shape: (4779, 8)\n"
     ]
    }
   ],
   "source": [
    "# use 2018/05/21 - 2018/06/18 data as training data\n",
    "# use 2018/06/18 - 2018/06/26 data as testing data\n",
    "train_data_set = extra_train_test_data('2018/05/21 23:00','2018/06/18 00:40',csv_record_bus1_all,route_stops)\n",
    "test_data_set = extra_train_test_data('2018/06/18 23:00','2018/06/26 00:40',csv_record_bus1_all,route_stops)\n",
    "\n",
    "print('train_data_set shape: ' + str(train_data_set.shape))\n",
    "print('test_data_set shape: ' + str(test_data_set.shape))"
   ]
  },
  {
   "cell_type": "markdown",
   "metadata": {},
   "source": [
    "## 3.Machine Learning"
   ]
  },
  {
   "cell_type": "markdown",
   "metadata": {},
   "source": [
    "### @functions"
   ]
  },
  {
   "cell_type": "code",
   "execution_count": 20,
   "metadata": {},
   "outputs": [],
   "source": [
    "train_data_set.replace({'segment': { '仁恒星园-香洲区府': 0,'兴业中-南方软件园': 1,'南村-兴业中': 2,\n",
    "                                    '明珠中-翠微': 3,'翠微-仁恒星园': 4,'香洲区府-南村': 5},\n",
    "                        'device':{'stm32': 0,'hcb': 1}}, inplace=True)\n"
   ]
  },
  {
   "cell_type": "code",
   "execution_count": 21,
   "metadata": {},
   "outputs": [],
   "source": [
    "test_data_set.replace({'segment': { '仁恒星园-香洲区府': 0,'兴业中-南方软件园': 1,'南村-兴业中': 2,\n",
    "                                    '明珠中-翠微': 3,'翠微-仁恒星园': 4,'香洲区府-南村': 5},\n",
    "                        'device':{'stm32': 0,'hcb': 1}}, inplace=True)\n"
   ]
  },
  {
   "cell_type": "code",
   "execution_count": 22,
   "metadata": {},
   "outputs": [],
   "source": [
    "train_data_set.updated = pd.to_datetime(train_data_set.updated,utc = True)\n",
    "test_data_set.updated = pd.to_datetime(test_data_set.updated,utc = True)"
   ]
  },
  {
   "cell_type": "code",
   "execution_count": 23,
   "metadata": {},
   "outputs": [],
   "source": [
    "train_data_set.ATE = pd.to_datetime(train_data_set.ATE,utc = True)\n",
    "test_data_set.ATE = pd.to_datetime(test_data_set.ATE,utc = True)"
   ]
  },
  {
   "cell_type": "code",
   "execution_count": 24,
   "metadata": {},
   "outputs": [],
   "source": [
    "train_data_set['ATE_span'] = train_data_set.apply(lambda x: (x.ATE - x.updated).total_seconds(), axis=1)"
   ]
  },
  {
   "cell_type": "code",
   "execution_count": 25,
   "metadata": {
    "collapsed": true
   },
   "outputs": [],
   "source": [
    "test_data_set['ATE_span'] = test_data_set.apply(lambda x: (x.ATE - x.updated).total_seconds(), axis=1)"
   ]
  },
  {
   "cell_type": "code",
   "execution_count": 26,
   "metadata": {
    "collapsed": true
   },
   "outputs": [],
   "source": [
    "test = pd.to_datetime('2018-05-21T23:21:32.022Z',utc = True)"
   ]
  },
  {
   "cell_type": "code",
   "execution_count": 27,
   "metadata": {},
   "outputs": [
    {
     "data": {
      "text/html": [
       "<div>\n",
       "<style>\n",
       "    .dataframe thead tr:only-child th {\n",
       "        text-align: right;\n",
       "    }\n",
       "\n",
       "    .dataframe thead th {\n",
       "        text-align: left;\n",
       "    }\n",
       "\n",
       "    .dataframe tbody tr th {\n",
       "        vertical-align: top;\n",
       "    }\n",
       "</style>\n",
       "<table border=\"1\" class=\"dataframe\">\n",
       "  <thead>\n",
       "    <tr style=\"text-align: right;\">\n",
       "      <th></th>\n",
       "      <th>latitude</th>\n",
       "      <th>longitude</th>\n",
       "      <th>routeNumber</th>\n",
       "      <th>updated</th>\n",
       "      <th>plannedArrivalTime</th>\n",
       "      <th>device</th>\n",
       "      <th>segment</th>\n",
       "      <th>ATE</th>\n",
       "      <th>ATE_span</th>\n",
       "    </tr>\n",
       "  </thead>\n",
       "  <tbody>\n",
       "    <tr>\n",
       "      <th>0</th>\n",
       "      <td>22.251497</td>\n",
       "      <td>113.516144</td>\n",
       "      <td>1</td>\n",
       "      <td>2018-05-21 23:21:32.022</td>\n",
       "      <td>7:26</td>\n",
       "      <td>0</td>\n",
       "      <td>3</td>\n",
       "      <td>2018-05-21 23:25:48.272</td>\n",
       "      <td>256.250</td>\n",
       "    </tr>\n",
       "    <tr>\n",
       "      <th>1</th>\n",
       "      <td>22.251520</td>\n",
       "      <td>113.515953</td>\n",
       "      <td>1</td>\n",
       "      <td>2018-05-21 23:21:46.123</td>\n",
       "      <td>7:26</td>\n",
       "      <td>0</td>\n",
       "      <td>3</td>\n",
       "      <td>2018-05-21 23:25:48.272</td>\n",
       "      <td>242.149</td>\n",
       "    </tr>\n",
       "    <tr>\n",
       "      <th>2</th>\n",
       "      <td>22.251549</td>\n",
       "      <td>113.515785</td>\n",
       "      <td>1</td>\n",
       "      <td>2018-05-21 23:22:00.263</td>\n",
       "      <td>7:26</td>\n",
       "      <td>0</td>\n",
       "      <td>3</td>\n",
       "      <td>2018-05-21 23:25:48.272</td>\n",
       "      <td>228.009</td>\n",
       "    </tr>\n",
       "    <tr>\n",
       "      <th>3</th>\n",
       "      <td>22.251701</td>\n",
       "      <td>113.515640</td>\n",
       "      <td>1</td>\n",
       "      <td>2018-05-21 23:22:14.362</td>\n",
       "      <td>7:26</td>\n",
       "      <td>0</td>\n",
       "      <td>3</td>\n",
       "      <td>2018-05-21 23:25:48.272</td>\n",
       "      <td>213.910</td>\n",
       "    </tr>\n",
       "    <tr>\n",
       "      <th>4</th>\n",
       "      <td>22.251860</td>\n",
       "      <td>113.515617</td>\n",
       "      <td>1</td>\n",
       "      <td>2018-05-21 23:22:30.501</td>\n",
       "      <td>7:26</td>\n",
       "      <td>0</td>\n",
       "      <td>3</td>\n",
       "      <td>2018-05-21 23:25:48.272</td>\n",
       "      <td>197.771</td>\n",
       "    </tr>\n",
       "  </tbody>\n",
       "</table>\n",
       "</div>"
      ],
      "text/plain": [
       "    latitude   longitude routeNumber                 updated  \\\n",
       "0  22.251497  113.516144           1 2018-05-21 23:21:32.022   \n",
       "1  22.251520  113.515953           1 2018-05-21 23:21:46.123   \n",
       "2  22.251549  113.515785           1 2018-05-21 23:22:00.263   \n",
       "3  22.251701  113.515640           1 2018-05-21 23:22:14.362   \n",
       "4  22.251860  113.515617           1 2018-05-21 23:22:30.501   \n",
       "\n",
       "  plannedArrivalTime  device  segment                     ATE  ATE_span  \n",
       "0               7:26       0        3 2018-05-21 23:25:48.272   256.250  \n",
       "1               7:26       0        3 2018-05-21 23:25:48.272   242.149  \n",
       "2               7:26       0        3 2018-05-21 23:25:48.272   228.009  \n",
       "3               7:26       0        3 2018-05-21 23:25:48.272   213.910  \n",
       "4               7:26       0        3 2018-05-21 23:25:48.272   197.771  "
      ]
     },
     "execution_count": 27,
     "metadata": {},
     "output_type": "execute_result"
    }
   ],
   "source": [
    "train_data_set.head()"
   ]
  },
  {
   "cell_type": "code",
   "execution_count": 28,
   "metadata": {},
   "outputs": [
    {
     "data": {
      "text/html": [
       "<div>\n",
       "<style>\n",
       "    .dataframe thead tr:only-child th {\n",
       "        text-align: right;\n",
       "    }\n",
       "\n",
       "    .dataframe thead th {\n",
       "        text-align: left;\n",
       "    }\n",
       "\n",
       "    .dataframe tbody tr th {\n",
       "        vertical-align: top;\n",
       "    }\n",
       "</style>\n",
       "<table border=\"1\" class=\"dataframe\">\n",
       "  <thead>\n",
       "    <tr style=\"text-align: right;\">\n",
       "      <th></th>\n",
       "      <th>latitude</th>\n",
       "      <th>longitude</th>\n",
       "      <th>routeNumber</th>\n",
       "      <th>updated</th>\n",
       "      <th>plannedArrivalTime</th>\n",
       "      <th>device</th>\n",
       "      <th>segment</th>\n",
       "      <th>ATE</th>\n",
       "      <th>ATE_span</th>\n",
       "    </tr>\n",
       "  </thead>\n",
       "  <tbody>\n",
       "    <tr>\n",
       "      <th>0</th>\n",
       "      <td>22.249968</td>\n",
       "      <td>113.520630</td>\n",
       "      <td>1</td>\n",
       "      <td>2018-06-18 23:15:48.008</td>\n",
       "      <td>7:26</td>\n",
       "      <td>0</td>\n",
       "      <td>3</td>\n",
       "      <td>2018-06-18 23:18:16.090</td>\n",
       "      <td>148.082</td>\n",
       "    </tr>\n",
       "    <tr>\n",
       "      <th>1</th>\n",
       "      <td>22.251682</td>\n",
       "      <td>113.520418</td>\n",
       "      <td>1</td>\n",
       "      <td>2018-06-18 23:16:04.208</td>\n",
       "      <td>7:26</td>\n",
       "      <td>0</td>\n",
       "      <td>3</td>\n",
       "      <td>2018-06-18 23:18:16.090</td>\n",
       "      <td>131.882</td>\n",
       "    </tr>\n",
       "    <tr>\n",
       "      <th>2</th>\n",
       "      <td>22.253285</td>\n",
       "      <td>113.520190</td>\n",
       "      <td>1</td>\n",
       "      <td>2018-06-18 23:16:21.005</td>\n",
       "      <td>7:26</td>\n",
       "      <td>0</td>\n",
       "      <td>3</td>\n",
       "      <td>2018-06-18 23:18:16.090</td>\n",
       "      <td>115.085</td>\n",
       "    </tr>\n",
       "    <tr>\n",
       "      <th>3</th>\n",
       "      <td>22.254785</td>\n",
       "      <td>113.520045</td>\n",
       "      <td>1</td>\n",
       "      <td>2018-06-18 23:16:37.584</td>\n",
       "      <td>7:26</td>\n",
       "      <td>0</td>\n",
       "      <td>3</td>\n",
       "      <td>2018-06-18 23:18:16.090</td>\n",
       "      <td>98.506</td>\n",
       "    </tr>\n",
       "    <tr>\n",
       "      <th>4</th>\n",
       "      <td>22.256129</td>\n",
       "      <td>113.519855</td>\n",
       "      <td>1</td>\n",
       "      <td>2018-06-18 23:16:54.017</td>\n",
       "      <td>7:26</td>\n",
       "      <td>0</td>\n",
       "      <td>3</td>\n",
       "      <td>2018-06-18 23:18:16.090</td>\n",
       "      <td>82.073</td>\n",
       "    </tr>\n",
       "  </tbody>\n",
       "</table>\n",
       "</div>"
      ],
      "text/plain": [
       "    latitude   longitude routeNumber                 updated  \\\n",
       "0  22.249968  113.520630           1 2018-06-18 23:15:48.008   \n",
       "1  22.251682  113.520418           1 2018-06-18 23:16:04.208   \n",
       "2  22.253285  113.520190           1 2018-06-18 23:16:21.005   \n",
       "3  22.254785  113.520045           1 2018-06-18 23:16:37.584   \n",
       "4  22.256129  113.519855           1 2018-06-18 23:16:54.017   \n",
       "\n",
       "  plannedArrivalTime  device  segment                     ATE  ATE_span  \n",
       "0               7:26       0        3 2018-06-18 23:18:16.090   148.082  \n",
       "1               7:26       0        3 2018-06-18 23:18:16.090   131.882  \n",
       "2               7:26       0        3 2018-06-18 23:18:16.090   115.085  \n",
       "3               7:26       0        3 2018-06-18 23:18:16.090    98.506  \n",
       "4               7:26       0        3 2018-06-18 23:18:16.090    82.073  "
      ]
     },
     "execution_count": 28,
     "metadata": {},
     "output_type": "execute_result"
    }
   ],
   "source": [
    "test_data_set.head()"
   ]
  },
  {
   "cell_type": "markdown",
   "metadata": {},
   "source": [
    "## A.RandomForestRegressor"
   ]
  },
  {
   "cell_type": "code",
   "execution_count": 29,
   "metadata": {
    "collapsed": true
   },
   "outputs": [],
   "source": [
    "# ['latitude','longitude','routeNumber','device','segment']\n",
    "label_list = ['latitude','longitude','segment']\n",
    "\n",
    "X_train=train_data_set[label_list]\n",
    "Y_train=train_data_set.ATE_span\n",
    "X_test=test_data_set[label_list]\n",
    "Y_test=test_data_set.ATE_span"
   ]
  },
  {
   "cell_type": "code",
   "execution_count": 30,
   "metadata": {},
   "outputs": [
    {
     "name": "stdout",
     "output_type": "stream",
     "text": [
      "241.892726973\n"
     ]
    }
   ],
   "source": [
    "from sklearn.ensemble import RandomForestRegressor\n",
    "from sklearn.linear_model import LogisticRegression,LinearRegression,Ridge\n",
    "from sklearn.metrics import mean_squared_error\n",
    "from sklearn.feature_extraction import DictVectorizer\n",
    "\n",
    "\n",
    "random_forest=RandomForestRegressor()\n",
    "random_forest.fit(X_train, Y_train)\n",
    "preds_test = random_forest.predict(X_test)\n",
    "\n",
    "train_score = mean_squared_error(Y_test, preds_test) ** 0.5\n",
    "print(train_score)"
   ]
  },
  {
   "cell_type": "markdown",
   "metadata": {},
   "source": [
    "## B.Lasso"
   ]
  },
  {
   "cell_type": "code",
   "execution_count": 31,
   "metadata": {},
   "outputs": [
    {
     "name": "stdout",
     "output_type": "stream",
     "text": [
      "513.83677633\n"
     ]
    }
   ],
   "source": [
    "from sklearn import linear_model\n",
    "reg = linear_model.Lasso(alpha = 0.1)\n",
    "\n",
    "reg.fit(X_train, Y_train)\n",
    "lasso_preds_test = reg.predict(X_test)\n",
    "\n",
    "lasso_train_score = mean_squared_error(Y_test, lasso_preds_test) ** 0.5\n",
    "print(lasso_train_score)"
   ]
  },
  {
   "cell_type": "markdown",
   "metadata": {},
   "source": [
    "## C.Ridge Regression"
   ]
  },
  {
   "cell_type": "code",
   "execution_count": null,
   "metadata": {},
   "outputs": [
    {
     "name": "stdout",
     "output_type": "stream",
     "text": [
      "549.921185505\n"
     ]
    }
   ],
   "source": [
    "from sklearn import linear_model\n",
    "reg = linear_model.Ridge (alpha = 0.5)\n",
    "\n",
    "reg.fit(X_train, Y_train)\n",
    "ridge_preds_test = reg.predict(X_test)\n",
    "\n",
    "ridge_train_score = mean_squared_error(Y_test, ridge_preds_test) ** 0.5\n",
    "print(ridge_train_score)"
   ]
  },
  {
   "cell_type": "markdown",
   "metadata": {},
   "source": [
    "## D.SVM"
   ]
  },
  {
   "cell_type": "code",
   "execution_count": null,
   "metadata": {},
   "outputs": [],
   "source": [
    "from sklearn import svm\n",
    "clf = svm.SVC(kernel='rbf', C=1e3, gamma=0.1)\n",
    "\n",
    "clf.fit(X_train, Y_train.astype('int'))\n",
    "svm_preds_test = clf.predict(X_test)\n",
    "\n",
    "svm_train_score = mean_squared_error(Y_test.astype('int'), svm_preds_test.astype('int')) ** 0.5\n",
    "print(svm_train_score)"
   ]
  },
  {
   "cell_type": "code",
   "execution_count": null,
   "metadata": {
    "collapsed": true
   },
   "outputs": [],
   "source": []
  }
 ],
 "metadata": {
  "kernelspec": {
   "display_name": "Python 3",
   "language": "python",
   "name": "python3"
  },
  "language_info": {
   "codemirror_mode": {
    "name": "ipython",
    "version": 3
   },
   "file_extension": ".py",
   "mimetype": "text/x-python",
   "name": "python",
   "nbconvert_exporter": "python",
   "pygments_lexer": "ipython3",
   "version": "3.6.3"
  }
 },
 "nbformat": 4,
 "nbformat_minor": 2
}
