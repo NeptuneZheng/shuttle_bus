{
 "cells": [
  {
   "cell_type": "markdown",
   "metadata": {},
   "source": [
    "# Shuttlt bus data analysis"
   ]
  },
  {
   "cell_type": "code",
   "execution_count": 1,
   "metadata": {},
   "outputs": [],
   "source": [
    "%matplotlib inline"
   ]
  },
  {
   "cell_type": "code",
   "execution_count": 2,
   "metadata": {},
   "outputs": [],
   "source": [
    "import pandas as pd\n",
    "import numpy as np\n",
    "import matplotlib.pyplot as plt\n",
    "import math as math"
   ]
  },
  {
   "cell_type": "markdown",
   "metadata": {},
   "source": [
    "### functions"
   ]
  },
  {
   "cell_type": "code",
   "execution_count": 3,
   "metadata": {},
   "outputs": [],
   "source": [
    "#坐标系转平面坐标\n",
    "def mct2x(lat):\n",
    "    x = lat/ 20037508.3427892 * 180 \n",
    "    #y = lon/ 20037508.3427892 * 180 \n",
    "    #y = 180 / math.pi * (2 * math.atan(math.exp(y * math.pi / 180)) - math.pi / 2) \n",
    "    return x\n",
    "def mct2y(lon):\n",
    "    result = []\n",
    "    for i in lon:\n",
    "        y = i/ 20037508.3427892 * 180 \n",
    "        y = 180 / math.pi * (2 * math.atan(math.exp(y * math.pi / 180)) - math.pi / 2) \n",
    "        result.append(y)\n",
    "    return result"
   ]
  },
  {
   "cell_type": "markdown",
   "metadata": {},
   "source": [
    "### load file"
   ]
  },
  {
   "cell_type": "code",
   "execution_count": 4,
   "metadata": {},
   "outputs": [],
   "source": [
    "#get the stop segment\n",
    "csv_stop = pd.read_csv(\"./../data/iot.stops.csv\",sep = '\\t',header = 0)\n",
    "csv_route = pd.read_csv(\"./../data/iot.routes.csv\",sep = '\\t',header = 0)\n",
    "\n",
    "#for calculate the distances between 2 stops \n",
    "csv_record = pd.read_csv(\"./../data/iot.locations.csv\",sep = '\\t',header = 0)"
   ]
  },
  {
   "cell_type": "markdown",
   "metadata": {},
   "source": [
    "## 1. data display"
   ]
  },
  {
   "cell_type": "code",
   "execution_count": 5,
   "metadata": {},
   "outputs": [],
   "source": [
    "# link route and stop info together\n",
    "csv_route_num1 = csv_route[(csv_route.routeNumber ==1) & (csv_route.isGo2Work == True) ]\n",
    "csv_route_num1 = csv_route_num1.sort_values([\"seqNumber\"],ascending = True)\n",
    "csv_route_num1 = csv_route_num1.iloc[:,1:7]\n",
    "\n",
    "route_stops = csv_route_num1.merge(csv_stop,left_on='stopId',right_on = '_id')"
   ]
  },
  {
   "cell_type": "code",
   "execution_count": 6,
   "metadata": {},
   "outputs": [
    {
     "data": {
      "text/html": [
       "<div>\n",
       "<style scoped>\n",
       "    .dataframe tbody tr th:only-of-type {\n",
       "        vertical-align: middle;\n",
       "    }\n",
       "\n",
       "    .dataframe tbody tr th {\n",
       "        vertical-align: top;\n",
       "    }\n",
       "\n",
       "    .dataframe thead th {\n",
       "        text-align: right;\n",
       "    }\n",
       "</style>\n",
       "<table border=\"1\" class=\"dataframe\">\n",
       "  <thead>\n",
       "    <tr style=\"text-align: right;\">\n",
       "      <th></th>\n",
       "      <th>busId</th>\n",
       "      <th>isGo2Work</th>\n",
       "      <th>plannedArrivalTime</th>\n",
       "      <th>routeNumber</th>\n",
       "      <th>seqNumber</th>\n",
       "      <th>stopId</th>\n",
       "      <th>_id</th>\n",
       "      <th>isGoToWork</th>\n",
       "      <th>latitude</th>\n",
       "      <th>longitude</th>\n",
       "      <th>stopName</th>\n",
       "      <th>updated</th>\n",
       "    </tr>\n",
       "  </thead>\n",
       "  <tbody>\n",
       "    <tr>\n",
       "      <th>0</th>\n",
       "      <td>5ae8393c3023169da447c2ae</td>\n",
       "      <td>True</td>\n",
       "      <td>7:23</td>\n",
       "      <td>1</td>\n",
       "      <td>1</td>\n",
       "      <td>5ae83320748fb2a67c5f6e54</td>\n",
       "      <td>5ae83320748fb2a67c5f6e54</td>\n",
       "      <td>True</td>\n",
       "      <td>22.249541</td>\n",
       "      <td>113.520559</td>\n",
       "      <td>明珠中</td>\n",
       "      <td>2018-05-01T09:28:00.844Z</td>\n",
       "    </tr>\n",
       "    <tr>\n",
       "      <th>1</th>\n",
       "      <td>5ae8393c3023169da447c2ae</td>\n",
       "      <td>True</td>\n",
       "      <td>7:26</td>\n",
       "      <td>1</td>\n",
       "      <td>2</td>\n",
       "      <td>5ae8334c748fb2a67c5f6e55</td>\n",
       "      <td>5ae8334c748fb2a67c5f6e55</td>\n",
       "      <td>True</td>\n",
       "      <td>22.256653</td>\n",
       "      <td>113.519771</td>\n",
       "      <td>翠微</td>\n",
       "      <td>2018-05-01T09:28:44.366Z</td>\n",
       "    </tr>\n",
       "    <tr>\n",
       "      <th>2</th>\n",
       "      <td>5ae8393c3023169da447c2ae</td>\n",
       "      <td>True</td>\n",
       "      <td>7:34</td>\n",
       "      <td>1</td>\n",
       "      <td>3</td>\n",
       "      <td>5ae8336c748fb2a67c5f6e56</td>\n",
       "      <td>5ae8336c748fb2a67c5f6e56</td>\n",
       "      <td>True</td>\n",
       "      <td>22.267762</td>\n",
       "      <td>113.536134</td>\n",
       "      <td>仁恒星园</td>\n",
       "      <td>2018-05-01T09:29:16.147Z</td>\n",
       "    </tr>\n",
       "    <tr>\n",
       "      <th>3</th>\n",
       "      <td>5ae8393c3023169da447c2ae</td>\n",
       "      <td>True</td>\n",
       "      <td>7:37</td>\n",
       "      <td>1</td>\n",
       "      <td>4</td>\n",
       "      <td>5ae834df567e17937cf407e1</td>\n",
       "      <td>5ae834df567e17937cf407e1</td>\n",
       "      <td>True</td>\n",
       "      <td>22.268722</td>\n",
       "      <td>113.542062</td>\n",
       "      <td>香洲区府</td>\n",
       "      <td>2018-05-01T09:35:27.388Z</td>\n",
       "    </tr>\n",
       "    <tr>\n",
       "      <th>4</th>\n",
       "      <td>5ae8393c3023169da447c2ae</td>\n",
       "      <td>True</td>\n",
       "      <td>7:38</td>\n",
       "      <td>1</td>\n",
       "      <td>5</td>\n",
       "      <td>5ae83521567e17937cf407e2</td>\n",
       "      <td>5ae83521567e17937cf407e2</td>\n",
       "      <td>True</td>\n",
       "      <td>22.269261</td>\n",
       "      <td>113.545517</td>\n",
       "      <td>南村</td>\n",
       "      <td>2018-05-01T09:36:33.812Z</td>\n",
       "    </tr>\n",
       "    <tr>\n",
       "      <th>5</th>\n",
       "      <td>5ae8393c3023169da447c2ae</td>\n",
       "      <td>True</td>\n",
       "      <td>7:40</td>\n",
       "      <td>1</td>\n",
       "      <td>6</td>\n",
       "      <td>5ae8353d567e17937cf407e3</td>\n",
       "      <td>5ae8353d567e17937cf407e3</td>\n",
       "      <td>True</td>\n",
       "      <td>22.276603</td>\n",
       "      <td>113.557696</td>\n",
       "      <td>兴业中</td>\n",
       "      <td>2018-05-01T09:37:01.373Z</td>\n",
       "    </tr>\n",
       "    <tr>\n",
       "      <th>6</th>\n",
       "      <td>5ae8393c3023169da447c2ae</td>\n",
       "      <td>True</td>\n",
       "      <td>8:30</td>\n",
       "      <td>1</td>\n",
       "      <td>7</td>\n",
       "      <td>5af85642ac5680781c7bb90c</td>\n",
       "      <td>5af85642ac5680781c7bb90c</td>\n",
       "      <td>True</td>\n",
       "      <td>22.372631</td>\n",
       "      <td>113.575924</td>\n",
       "      <td>南方软件园</td>\n",
       "      <td>2018-05-13T15:14:10.382Z</td>\n",
       "    </tr>\n",
       "  </tbody>\n",
       "</table>\n",
       "</div>"
      ],
      "text/plain": [
       "                      busId  isGo2Work plannedArrivalTime  routeNumber  \\\n",
       "0  5ae8393c3023169da447c2ae       True               7:23            1   \n",
       "1  5ae8393c3023169da447c2ae       True               7:26            1   \n",
       "2  5ae8393c3023169da447c2ae       True               7:34            1   \n",
       "3  5ae8393c3023169da447c2ae       True               7:37            1   \n",
       "4  5ae8393c3023169da447c2ae       True               7:38            1   \n",
       "5  5ae8393c3023169da447c2ae       True               7:40            1   \n",
       "6  5ae8393c3023169da447c2ae       True               8:30            1   \n",
       "\n",
       "   seqNumber                    stopId                       _id  isGoToWork  \\\n",
       "0          1  5ae83320748fb2a67c5f6e54  5ae83320748fb2a67c5f6e54        True   \n",
       "1          2  5ae8334c748fb2a67c5f6e55  5ae8334c748fb2a67c5f6e55        True   \n",
       "2          3  5ae8336c748fb2a67c5f6e56  5ae8336c748fb2a67c5f6e56        True   \n",
       "3          4  5ae834df567e17937cf407e1  5ae834df567e17937cf407e1        True   \n",
       "4          5  5ae83521567e17937cf407e2  5ae83521567e17937cf407e2        True   \n",
       "5          6  5ae8353d567e17937cf407e3  5ae8353d567e17937cf407e3        True   \n",
       "6          7  5af85642ac5680781c7bb90c  5af85642ac5680781c7bb90c        True   \n",
       "\n",
       "    latitude   longitude stopName                   updated  \n",
       "0  22.249541  113.520559      明珠中  2018-05-01T09:28:00.844Z  \n",
       "1  22.256653  113.519771       翠微  2018-05-01T09:28:44.366Z  \n",
       "2  22.267762  113.536134     仁恒星园  2018-05-01T09:29:16.147Z  \n",
       "3  22.268722  113.542062     香洲区府  2018-05-01T09:35:27.388Z  \n",
       "4  22.269261  113.545517       南村  2018-05-01T09:36:33.812Z  \n",
       "5  22.276603  113.557696      兴业中  2018-05-01T09:37:01.373Z  \n",
       "6  22.372631  113.575924    南方软件园  2018-05-13T15:14:10.382Z  "
      ]
     },
     "execution_count": 6,
     "metadata": {},
     "output_type": "execute_result"
    }
   ],
   "source": [
    "route_stops.head(10)"
   ]
  },
  {
   "cell_type": "code",
   "execution_count": 7,
   "metadata": {},
   "outputs": [],
   "source": [
    "#filter 2018-5-18 \n",
    "csv_record_bus1 = csv_record[(csv_record['bus']== 1.0)\n",
    "                              & (csv_record['device']== 'stm32')\n",
    "                              & (pd.to_datetime(csv_record['updated'],utc = True) > pd.to_datetime('2018/05/17 23:00',utc = True))\n",
    "                              & (pd.to_datetime(csv_record['updated'],utc = True) < pd.to_datetime('2018/05/18 00:40',utc = True))] # filter all bus1 data"
   ]
  },
  {
   "cell_type": "code",
   "execution_count": 8,
   "metadata": {},
   "outputs": [
    {
     "data": {
      "text/html": [
       "<div>\n",
       "<style scoped>\n",
       "    .dataframe tbody tr th:only-of-type {\n",
       "        vertical-align: middle;\n",
       "    }\n",
       "\n",
       "    .dataframe tbody tr th {\n",
       "        vertical-align: top;\n",
       "    }\n",
       "\n",
       "    .dataframe thead th {\n",
       "        text-align: right;\n",
       "    }\n",
       "</style>\n",
       "<table border=\"1\" class=\"dataframe\">\n",
       "  <thead>\n",
       "    <tr style=\"text-align: right;\">\n",
       "      <th></th>\n",
       "      <th>latitude</th>\n",
       "      <th>longtitude</th>\n",
       "    </tr>\n",
       "  </thead>\n",
       "  <tbody>\n",
       "    <tr>\n",
       "      <th>9966</th>\n",
       "      <td>22.252169</td>\n",
       "      <td>113.515373</td>\n",
       "    </tr>\n",
       "    <tr>\n",
       "      <th>9967</th>\n",
       "      <td>22.252136</td>\n",
       "      <td>113.515480</td>\n",
       "    </tr>\n",
       "    <tr>\n",
       "      <th>9968</th>\n",
       "      <td>22.252207</td>\n",
       "      <td>113.515297</td>\n",
       "    </tr>\n",
       "    <tr>\n",
       "      <th>9969</th>\n",
       "      <td>22.252222</td>\n",
       "      <td>113.515213</td>\n",
       "    </tr>\n",
       "    <tr>\n",
       "      <th>9970</th>\n",
       "      <td>22.252190</td>\n",
       "      <td>113.515236</td>\n",
       "    </tr>\n",
       "  </tbody>\n",
       "</table>\n",
       "</div>"
      ],
      "text/plain": [
       "       latitude  longtitude\n",
       "9966  22.252169  113.515373\n",
       "9967  22.252136  113.515480\n",
       "9968  22.252207  113.515297\n",
       "9969  22.252222  113.515213\n",
       "9970  22.252190  113.515236"
      ]
     },
     "execution_count": 8,
     "metadata": {},
     "output_type": "execute_result"
    }
   ],
   "source": [
    "csv_record_bus1 = csv_record_bus1.sort_values(by = 'updated',ascending = True)\n",
    "bus1_copy = csv_record_bus1.copy()\n",
    "location = bus1_copy.iloc[:,3:5]\n",
    "\n",
    "location.head()"
   ]
  },
  {
   "cell_type": "code",
   "execution_count": 9,
   "metadata": {},
   "outputs": [
    {
     "data": {
      "text/plain": [
       "[<matplotlib.lines.Line2D at 0x20bd815cef0>]"
      ]
     },
     "execution_count": 9,
     "metadata": {},
     "output_type": "execute_result"
    },
    {
     "data": {
      "image/png": "[encoded data removed]",
      "text/plain": [
       "<Figure size 432x288 with 1 Axes>"
      ]
     },
     "metadata": {},
     "output_type": "display_data"
    }
   ],
   "source": [
    "plt.plot(location['latitude'],location['longtitude'],'ro')"
   ]
  },
  {
   "cell_type": "code",
   "execution_count": 10,
   "metadata": {},
   "outputs": [
    {
     "data": {
      "text/plain": [
       "[<matplotlib.lines.Line2D at 0x20bd8579198>,\n",
       " <matplotlib.lines.Line2D at 0x20bd8579390>]"
      ]
     },
     "execution_count": 10,
     "metadata": {},
     "output_type": "execute_result"
    },
    {
     "data": {
      "image/png": "[encoded data removed]",
      "text/plain": [
       "<Figure size 432x288 with 1 Axes>"
      ]
     },
     "metadata": {},
     "output_type": "display_data"
    }
   ],
   "source": [
    "plt.plot(route_stops.latitude,route_stops.longitude, \"g\",location['latitude'],location['longtitude'],'r',marker = 'o')"
   ]
  },
  {
   "cell_type": "code",
   "execution_count": null,
   "metadata": {},
   "outputs": [],
   "source": []
  }
 ],
 "metadata": {
  "kernelspec": {
   "display_name": "Python 3",
   "language": "python",
   "name": "python3"
  },
  "language_info": {
   "codemirror_mode": {
    "name": "ipython",
    "version": 3
   },
   "file_extension": ".py",
   "mimetype": "text/x-python",
   "name": "python",
   "nbconvert_exporter": "python",
   "pygments_lexer": "ipython3",
   "version": "3.6.5"
  }
 },
 "nbformat": 4,
 "nbformat_minor": 2
}
