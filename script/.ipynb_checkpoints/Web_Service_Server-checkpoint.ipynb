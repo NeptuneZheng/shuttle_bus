{
 "cells": [
  {
   "cell_type": "markdown",
   "metadata": {},
   "source": [
    "# Web Service Server"
   ]
  },
  {
   "cell_type": "code",
   "execution_count": 1,
   "metadata": {
    "collapsed": true
   },
   "outputs": [],
   "source": [
    "from spyne import Application, rpc, ServiceBase  \n",
    "from spyne import Integer, Unicode, Array, ComplexModel  \n",
    "from spyne.protocol.soap import Soap11  \n",
    "from spyne.server.wsgi import WsgiApplication \n",
    "from wsgiref.simple_server import make_server \n",
    "from spyne.protocol.json import JsonDocument\n",
    "from spyne.protocol.http import HttpRpc\n",
    "\n",
    "import json"
   ]
  },
  {
   "cell_type": "code",
   "execution_count": null,
   "metadata": {},
   "outputs": [],
   "source": [
    "from spyne import Application, rpc, ServiceBase\n",
    "from spyne import Integer, Unicode, Array, ComplexModel, Iterable, String\n",
    "from spyne.protocol.soap import Soap11\n",
    "from spyne.server.wsgi import WsgiApplication\n",
    "from wsgiref.simple_server import make_server\n",
    "\n",
    "#['latitude','longitude','routeNumber','updated','plannedArrivalTime','device','segment'], keep same with real_script1 fields\n",
    "class Bus_Position(ComplexModel):\n",
    "    latitude = Unicode\n",
    "    longitude = Unicode\n",
    "    routeNumber = Unicode\n",
    "    updated = Unicode\n",
    "    plannedArrivalTime = Unicode\n",
    "    device = Unicode\n",
    "    segment = Unicode\n",
    "\n",
    "class ETA_Predictor(ServiceBase):\n",
    "    @rpc(Unicode, _returns=Iterable(Unicode))\n",
    "      # support accept mutiple input bus posioions and predict\n",
    "    def predict(self, bus_positions):\n",
    "        print('accept the data (%s)from client, now start predict ......' % (str(bus_positions)))\n",
    "        if not bus_positions:\n",
    "            print(\"illegal input data formate!\")\n",
    "            yield 'illegal input data formate, pls checking if your data first!'\n",
    "        for bus_position in bus_positions:\n",
    "            print('bus_position is : %s' % (bus_position))\n",
    "            yield '{minute: %s}' % ('26.06')\n",
    "\n",
    "\n",
    "application = Application([ETA_Predictor],\n",
    "    tns='spyne.examples.hello',\n",
    "    in_protocol=JsonDocument(),\n",
    "    out_protocol=JsonDocument())\n",
    "\n",
    "wsgi_application = WsgiApplication(application)\n",
    "\n",
    "if __name__ == '__main__':\n",
    "    import logging\n",
    "        \n",
    "#     host = '127.0.0.1'\n",
    "#     port = 8000\n",
    "\n",
    "    # load host and port info from setup file \n",
    "    set_up = json.load(open(\"web_service_setup_info.json\", encoding=\"utf-8\"))\n",
    "    host = set_up['host']\n",
    "    port = set_up['port']\n",
    "    \n",
    "    logging.info(\"listening to http://%s:%d\" % (host,port))\n",
    "    logging.info(\"wsdl is at: http://%s:%d/?wsdl\" % (host,port))\n",
    "\n",
    "    server = make_server(host, port, wsgi_application)\n",
    "    server.serve_forever()"
   ]
  },
  {
   "cell_type": "code",
   "execution_count": null,
   "metadata": {},
   "outputs": [],
   "source": [
    "?make_server\n"
   ]
  },
  {
   "cell_type": "code",
   "execution_count": null,
   "metadata": {
    "collapsed": true
   },
   "outputs": [],
   "source": []
  }
 ],
 "metadata": {
  "kernelspec": {
   "display_name": "Python 3",
   "language": "python",
   "name": "python3"
  },
  "language_info": {
   "codemirror_mode": {
    "name": "ipython",
    "version": 3
   },
   "file_extension": ".py",
   "mimetype": "text/x-python",
   "name": "python",
   "nbconvert_exporter": "python",
   "pygments_lexer": "ipython3",
   "version": "3.6.3"
  }
 },
 "nbformat": 4,
 "nbformat_minor": 2
}
