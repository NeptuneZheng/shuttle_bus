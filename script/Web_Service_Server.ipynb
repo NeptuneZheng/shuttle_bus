{
 "cells": [
  {
   "cell_type": "markdown",
   "metadata": {},
   "source": [
    "# Web Service Server"
   ]
  },
  {
   "cell_type": "code",
   "execution_count": 1,
   "metadata": {},
   "outputs": [],
   "source": [
    "from spyne import Application, rpc, ServiceBase  \n",
    "from spyne import Integer, Unicode, Array, ComplexModel  \n",
    "from spyne.protocol.soap import Soap11  \n",
    "from spyne.server.wsgi import WsgiApplication \n",
    "from wsgiref.simple_server import make_server "
   ]
  },
  {
   "cell_type": "code",
   "execution_count": null,
   "metadata": {},
   "outputs": [
    {
     "name": "stderr",
     "output_type": "stream",
     "text": [
      "127.0.0.1 - - [26/Jun/2018 11:36:38] \"GET /?wsdl HTTP/1.1\" 200 3525\n",
      "127.0.0.1 - - [26/Jun/2018 11:36:38] \"POST / HTTP/1.1\" 200 354\n"
     ]
    },
    {
     "name": "stdout",
     "output_type": "stream",
     "text": [
      "accept the data ([])from client, now start predict ......\n"
     ]
    }
   ],
   "source": [
    "from spyne import Application, rpc, ServiceBase\n",
    "from spyne import Integer, Unicode, Array, ComplexModel, Iterable, String\n",
    "from spyne.protocol.soap import Soap11\n",
    "from spyne.server.wsgi import WsgiApplication\n",
    "from wsgiref.simple_server import make_server\n",
    "\n",
    "#['latitude','longitude','routeNumber','updated','plannedArrivalTime','device','segment'], keep same with real_script1 fields\n",
    "class Bus_Position(ComplexModel):\n",
    "    latitude = Unicode\n",
    "    longitude = Unicode\n",
    "    routeNumber = Unicode\n",
    "    updated = Unicode\n",
    "    plannedArrivalTime = Unicode\n",
    "    device = Unicode\n",
    "    segment = Unicode\n",
    "\n",
    "class ETA_Predictor(ServiceBase):\n",
    "    @rpc(Array(Bus_Position), _returns=Iterable(Unicode))\n",
    "      # support accept mutiple input bus posioions and predict\n",
    "    def predict(self, bus_positions):\n",
    "        print('accept the data (%s)from client, now start predict ......' % (str(bus_positions)))\n",
    "        if not bus_positions:\n",
    "            yield 'data could not be null, pls checking first!'\n",
    "        for bus_position in bus_positions:\n",
    "            print('bus_position is : %s' % (bus_position))\n",
    "            yield '{minute: %s}' % ('26.06')\n",
    "\n",
    "\n",
    "application = Application([ETA_Predictor],\n",
    "                          'spyne.examples.hello',\n",
    "                          in_protocol=Soap11(validator='lxml'),\n",
    "                          out_protocol=Soap11())\n",
    "wsgi_application = WsgiApplication(application)\n",
    "\n",
    "if __name__ == '__main__':\n",
    "    import logging\n",
    "\n",
    "    host = '127.0.0.1'\n",
    "    port = 8000\n",
    "\n",
    "    logging.info(\"listening to http://127.0.0.1:8000\")\n",
    "    logging.info(\"wsdl is at: http://localhost:8000/?wsdl\")\n",
    "\n",
    "    server = make_server(host, port, wsgi_application)\n",
    "    server.serve_forever()"
   ]
  },
  {
   "cell_type": "code",
   "execution_count": null,
   "metadata": {
    "collapsed": true
   },
   "outputs": [],
   "source": []
  }
 ],
 "metadata": {
  "kernelspec": {
   "display_name": "Python 3",
   "language": "python",
   "name": "python3"
  },
  "language_info": {
   "codemirror_mode": {
    "name": "ipython",
    "version": 3
   },
   "file_extension": ".py",
   "mimetype": "text/x-python",
   "name": "python",
   "nbconvert_exporter": "python",
   "pygments_lexer": "ipython3",
   "version": "3.6.3"
  }
 },
 "nbformat": 4,
 "nbformat_minor": 2
}
